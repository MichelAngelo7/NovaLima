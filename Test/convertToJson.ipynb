{
 "cells": [
  {
   "cell_type": "code",
   "execution_count": 1,
   "metadata": {},
   "outputs": [],
   "source": [
    "import pandas as pd\n",
    "import json"
   ]
  },
  {
   "cell_type": "code",
   "execution_count": 2,
   "metadata": {},
   "outputs": [],
   "source": [
    "df = pd.read_csv('./data/Relacao+de+Servidores.csv', encoding='utf-8')"
   ]
  },
  {
   "cell_type": "code",
   "execution_count": 3,
   "metadata": {},
   "outputs": [
    {
     "data": {
      "text/html": [
       "<div>\n",
       "<style scoped>\n",
       "    .dataframe tbody tr th:only-of-type {\n",
       "        vertical-align: middle;\n",
       "    }\n",
       "\n",
       "    .dataframe tbody tr th {\n",
       "        vertical-align: top;\n",
       "    }\n",
       "\n",
       "    .dataframe thead th {\n",
       "        text-align: right;\n",
       "    }\n",
       "</style>\n",
       "<table border=\"1\" class=\"dataframe\">\n",
       "  <thead>\n",
       "    <tr style=\"text-align: right;\">\n",
       "      <th></th>\n",
       "      <th>Matrícula</th>\n",
       "      <th>Nome Servidor</th>\n",
       "      <th>CPF</th>\n",
       "      <th>Regime</th>\n",
       "      <th>Secretaria</th>\n",
       "      <th>Cargo</th>\n",
       "      <th>Salário Contratual R$</th>\n",
       "    </tr>\n",
       "  </thead>\n",
       "  <tbody>\n",
       "    <tr>\n",
       "      <th>0</th>\n",
       "      <td>7945</td>\n",
       "      <td>ABDENACK ESTEVES TRINDADE</td>\n",
       "      <td>XXX.147.406.XX</td>\n",
       "      <td>TEMPORARIO</td>\n",
       "      <td>SECRETARIA MUNICPAL DE SAUDE</td>\n",
       "      <td>MEDICO</td>\n",
       "      <td>931,48</td>\n",
       "    </tr>\n",
       "    <tr>\n",
       "      <th>1</th>\n",
       "      <td>12103</td>\n",
       "      <td>ABDIAS ANDRE CAIXETA MAGALHAES TIBURCIO</td>\n",
       "      <td>XXX.011.976.XX</td>\n",
       "      <td>NORMAL</td>\n",
       "      <td>SECRETARIA MUNICPAL DE SAUDE</td>\n",
       "      <td>ENFERMEIRO...</td>\n",
       "      <td>3.311,65</td>\n",
       "    </tr>\n",
       "    <tr>\n",
       "      <th>2</th>\n",
       "      <td>7197</td>\n",
       "      <td>ABDIAS SALOME JUNIOR</td>\n",
       "      <td>XXX.434.296.XX</td>\n",
       "      <td>NORMAL</td>\n",
       "      <td>SECRETARIA MUNICPAL DE SAUDE</td>\n",
       "      <td>AUX.SERV.ADMINISTRATIVO</td>\n",
       "      <td>357,53</td>\n",
       "    </tr>\n",
       "    <tr>\n",
       "      <th>3</th>\n",
       "      <td>5354</td>\n",
       "      <td>ABEL FRANCISCO REIS</td>\n",
       "      <td>XXX.358.876.XX</td>\n",
       "      <td>NORMAL</td>\n",
       "      <td>SECRET.MUNIC.SEG.TRANS.TRANSP.PUBLI</td>\n",
       "      <td>ASSISTENTE ADMINISTRATIVO</td>\n",
       "      <td>3.970,75</td>\n",
       "    </tr>\n",
       "    <tr>\n",
       "      <th>4</th>\n",
       "      <td>9543</td>\n",
       "      <td>ABEL LUIZ ALMEIDA</td>\n",
       "      <td>XXX.007.756.XX</td>\n",
       "      <td>NORMAL</td>\n",
       "      <td>SECRETARIA MUNICIPAL DE EDUCACAO</td>\n",
       "      <td>AUXILIAR DE SERVIÇOS GERAIS</td>\n",
       "      <td>1.425,02</td>\n",
       "    </tr>\n",
       "  </tbody>\n",
       "</table>\n",
       "</div>"
      ],
      "text/plain": [
       "   Matrícula                            Nome Servidor             CPF  \\\n",
       "0       7945                ABDENACK ESTEVES TRINDADE  XXX.147.406.XX   \n",
       "1      12103  ABDIAS ANDRE CAIXETA MAGALHAES TIBURCIO  XXX.011.976.XX   \n",
       "2       7197                     ABDIAS SALOME JUNIOR  XXX.434.296.XX   \n",
       "3       5354                      ABEL FRANCISCO REIS  XXX.358.876.XX   \n",
       "4       9543                        ABEL LUIZ ALMEIDA  XXX.007.756.XX   \n",
       "\n",
       "       Regime                           Secretaria  \\\n",
       "0  TEMPORARIO         SECRETARIA MUNICPAL DE SAUDE   \n",
       "1      NORMAL         SECRETARIA MUNICPAL DE SAUDE   \n",
       "2      NORMAL         SECRETARIA MUNICPAL DE SAUDE   \n",
       "3      NORMAL  SECRET.MUNIC.SEG.TRANS.TRANSP.PUBLI   \n",
       "4      NORMAL     SECRETARIA MUNICIPAL DE EDUCACAO   \n",
       "\n",
       "                         Cargo Salário Contratual R$  \n",
       "0                       MEDICO                931,48  \n",
       "1                ENFERMEIRO...              3.311,65  \n",
       "2      AUX.SERV.ADMINISTRATIVO                357,53  \n",
       "3    ASSISTENTE ADMINISTRATIVO              3.970,75  \n",
       "4  AUXILIAR DE SERVIÇOS GERAIS              1.425,02  "
      ]
     },
     "execution_count": 3,
     "metadata": {},
     "output_type": "execute_result"
    }
   ],
   "source": [
    "df.head()"
   ]
  },
  {
   "cell_type": "code",
   "execution_count": 5,
   "metadata": {},
   "outputs": [],
   "source": [
    "salary = df.to_json(orient=\"split\")\n",
    "file = open('./data/salary.json', 'w')\n",
    "file.write(salary)\n",
    "file.close()\n",
    "salary = df.to_json()\n",
    "file = open('./data/salary2.json', 'w')\n",
    "file.write(salary)\n",
    "file.close()\n",
    "salary = df.to_json(orient='values')\n",
    "file = open('./data/salary2values.json', 'w')\n",
    "file.write(salary)\n",
    "file.close()"
   ]
  },
  {
   "cell_type": "code",
   "execution_count": null,
   "metadata": {},
   "outputs": [],
   "source": []
  }
 ],
 "metadata": {
  "kernelspec": {
   "display_name": "Python 3",
   "language": "python",
   "name": "python3"
  },
  "language_info": {
   "codemirror_mode": {
    "name": "ipython",
    "version": 3
   },
   "file_extension": ".py",
   "mimetype": "text/x-python",
   "name": "python",
   "nbconvert_exporter": "python",
   "pygments_lexer": "ipython3",
   "version": "3.8.5"
  }
 },
 "nbformat": 4,
 "nbformat_minor": 4
}
