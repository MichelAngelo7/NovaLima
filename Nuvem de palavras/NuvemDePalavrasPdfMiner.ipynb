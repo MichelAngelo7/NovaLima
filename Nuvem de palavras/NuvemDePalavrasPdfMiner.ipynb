{
 "cells": [
  {
   "cell_type": "code",
   "execution_count": null,
   "metadata": {},
   "outputs": [],
   "source": [
    "import io\n",
    "import json\n",
    "import re\n",
    "import requests\n",
    "import time\n",
    "from pdfminer.high_level import extract_text\n",
    "from nltk.tokenize import word_tokenize\n",
    "from nltk.tokenize import RegexpTokenizer\n",
    "from nltk.corpus import stopwords\n",
    "from nltk.probability import FreqDist\n",
    "from nltk.stem import SnowballStemmer\n",
    "from matplotlib import pyplot as plt\n",
    "from wordcloud import WordCloud"
   ]
  },
  {
   "cell_type": "code",
   "execution_count": 38,
   "metadata": {},
   "outputs": [],
   "source": [
    "#url = \"https://www.cmnovalima.mg.gov.br/wp-content/uploads/2020/09/12ata-r.e.-virtual-setembro-10-09-2020.pdf\"\n",
    "#sem quorum.\n",
    "#url =\"https://www.cmnovalima.mg.gov.br/wp-content/uploads/2020/08/07ataa-r.e.-virtual-agosto-06-08-2020.pdf\"\n",
    "#sem quorum.\n",
    "#url =\"https://www.cmnovalima.mg.gov.br/wp-content/uploads/2020/09/09ataa-r.e.-virtual-agosto-20-08-2020-3.pdf\"\n",
    "#url = \"https://www.cmnovalima.mg.gov.br/wp-content/uploads/2019/10/ata-r.o.-15-10-19.pdf\"\n",
    "#########################################################################################################\n",
    "#url =\"https://www.cmnovalima.mg.gov.br/wp-content/uploads/2019/02/ata-r.soleneordinaria-05-02-19.pdf\"\n",
    "#url = \"https://www.cmnovalima.mg.gov.br/wp-content/uploads/2019/02/ata-r.o.-12-02-19.pdf\"\n",
    "#url = \"https://www.cmnovalima.mg.gov.br/wp-content/uploads/2019/03/ata-r.o.-19-02-19.pdf\"\n",
    "####url = \"https://www.cmnovalima.mg.gov.br/wp-content/uploads/2019/03/ata-r.o.-26-02-19.pdf\"\n",
    "#url = \"https://www.cmnovalima.mg.gov.br/wp-content/uploads/2019/03/ata-r.o.-12-03-19.pdf\"\n",
    "#url = \"https://www.cmnovalima.mg.gov.br/wp-content/uploads/2019/03/ata-r.extraordinaria-15-03-19.pdf\"\n",
    "#url = \"https://www.cmnovalima.mg.gov.br/wp-content/uploads/2019/04/ata-r.o.-19-03-19.pdf\"\n",
    "#url = \"https://www.cmnovalima.mg.gov.br/wp-content/uploads/2019/04/ata-r.o.-26-03-19.pdf\"\n",
    "#url = \"https://www.cmnovalima.mg.gov.br/wp-content/uploads/2019/04/ata-r.o.-02-04-19.pdf\"\n",
    "#url = \"https://www.cmnovalima.mg.gov.br/wp-content/uploads/2019/04/ata-r.o.-09-04-19.pdf\"\n",
    "###\n",
    "#url =\"https://www.cmnovalima.mg.gov.br/wp-content/uploads/2019/04/ata-r.o.-16-04-19.pdf\"\n",
    "#url = \"https://www.cmnovalima.mg.gov.br/wp-content/uploads/2019/05/ata-r.o.-23-04-19.pdf\"\n",
    "#url = \"https://www.cmnovalima.mg.gov.br/wp-content/uploads/2019/05/ata-r.o.-30-04-19.pdf\"\n",
    "#url = \"https://www.cmnovalima.mg.gov.br/wp-content/uploads/2019/05/ata-r.o.-07-05-19.pdf\"\n",
    "#url = \"https://www.cmnovalima.mg.gov.br/wp-content/uploads/2019/05/ata-r.o.-14-05-19-1.pdf\"\n",
    "#url = \"https://www.cmnovalima.mg.gov.br/wp-content/uploads/2019/05/mae-destaque-nova-limense-16-05-2019-3.pdf\"\n",
    "#url = \"https://www.cmnovalima.mg.gov.br/wp-content/uploads/2019/06/ata-r.o.-21-05-19-1.pdf\"\n",
    "#url = \"https://www.cmnovalima.mg.gov.br/wp-content/uploads/2019/06/ata-r.o.-28-05-19-1.pdf\"\n",
    "#url = \"https://www.cmnovalima.mg.gov.br/wp-content/uploads/2019/06/ata-r.o.-04-06-19.pdf\"\n",
    "#url = \"https://www.cmnovalima.mg.gov.br/wp-content/uploads/2019/06/ata-r.o.-11-06-19.pdf\"\n",
    "#url = \"https://www.cmnovalima.mg.gov.br/wp-content/uploads/2019/07/ata-r.o.-18-06-19.pdf\"\n",
    "#url = \"https://www.cmnovalima.mg.gov.br/wp-content/uploads/2019/07/ata-r.o.-25-06-19.pdf\"\n",
    "#url = \"https://www.cmnovalima.mg.gov.br/wp-content/uploads/2019/08/ata-r.o.-02-07-19.pdf\"\n",
    "\n",
    "\n",
    "#\"Ata: ['-r.o.-25-06-19.pdf'] NumeroPaginas: 26\"       \n",
    "#url = \"https://www.cmnovalima.mg.gov.br/wp-content/uploads/2019/07/ata-r.o.-25-06-19.pdf\"\n",
    "    \n",
    "    \n",
    "#\"Ata: ['-r.o.-28-05-19-1.pdf'] NumeroPaginas: 28\"\n",
    "#url = \"https://www.cmnovalima.mg.gov.br/wp-content/uploads/2019/06/ata-r.o.-28-05-19-1.pdf\"\n",
    "\n",
    "\n",
    "#\"Ata: ['-r.o.-23-04-19.pdf'] NumeroPaginas: 26\"\n",
    "#url = \"https://www.cmnovalima.mg.gov.br/wp-content/uploads/2019/05/ata-r.o.-23-04-19.pdf\" \n",
    "    \n",
    "    \n",
    "#\"Ata: ['-r.o.-11-06-19.pdf'] NumeroPaginas: 1\"\n",
    "url = \"https://www.cmnovalima.mg.gov.br/wp-content/uploads/2019/06/ata-r.o.-11-06-19.pdf\"\n",
    "    \n",
    "#\"Ata: ['-r.o.-02-04-19.pdf'] NumeroPaginas: 1\"\n",
    "#url= \"https://www.cmnovalima.mg.gov.br/wp-content/uploads/2019/04/ata-r.o.-02-04-19.pdf\"    \n",
    "    \n",
    "#\"Ata: ['-r.o.-12-02-19.pdf'] NumeroPaginas: 1\n",
    "#url = \"https://www.cmnovalima.mg.gov.br/wp-content/uploads/2019/02/ata-r.o.-12-02-19.pdf\"\n",
    "    \n"
   ]
  },
  {
   "cell_type": "code",
   "execution_count": 39,
   "metadata": {},
   "outputs": [],
   "source": [
    "resposta =  requests.get(url)"
   ]
  },
  {
   "cell_type": "code",
   "execution_count": 40,
   "metadata": {},
   "outputs": [],
   "source": [
    "with io.BytesIO(resposta.content) as abrir_pdf:\n",
    "    text = extract_text(abrir_pdf)\n",
    "    \n",
    "    \n",
    "#text    "
   ]
  },
  {
   "cell_type": "code",
   "execution_count": 41,
   "metadata": {},
   "outputs": [],
   "source": [
    "text = text.rstrip().replace('\\n', '')"
   ]
  },
  {
   "cell_type": "code",
   "execution_count": 42,
   "metadata": {},
   "outputs": [
    {
     "data": {
      "text/plain": [
       "' Ata  dos  trabalhos  da  Reunião  Ordinária  da  Câmara  Municipal  de  Nova  Lima.             No dia onze de junho de dois mil e dezenove, às dezoito horas e vinte minutos, reuniu-se  a  Câmara  em  sua  Sede,  achando-se  constituída  a  Mesa  pelos  senhores  vereadores: Fausto  Niquini  Ferreira  –  Presidente  e  Álvaro  Alonso  Perez  Morais  de  Azevedo  – Secretário.  Senhor  Presidente:  “reunião  ordinária,  dia  onze  de  junho  de  dois  mil  e dezenove. Boa noite a todas e a todos, boa noite, público presente, boa noite àqueles que nos  assistem  pela  TV  Banqueta.  Secretário,  por  favor,  a  chamada  dos  vereadores presentes”.  Senhor  Secretário:  “vereadores  Flávio  de  Almeida,  Tiago  Tito,  Álvaro Azevedo, Fausto Niquini e Boi”. Senhor Presidente: “por falta de quórum legal, declaro encerrada esta reunião. Muito obrigado pela presença de vocês”. __________________'"
      ]
     },
     "execution_count": 42,
     "metadata": {},
     "output_type": "execute_result"
    }
   ],
   "source": [
    "text"
   ]
  },
  {
   "cell_type": "code",
   "execution_count": 43,
   "metadata": {},
   "outputs": [
    {
     "data": {
      "text/plain": [
       "['-11-06-19']"
      ]
     },
     "execution_count": 43,
     "metadata": {},
     "output_type": "execute_result"
    }
   ],
   "source": [
    "pegar_data_reuniao = RegexpTokenizer('\\-\\d*\\-\\d*\\-\\d*')\n",
    "pegar_data_reuniao = pegar_data_reuniao.tokenize(url)\n",
    "pegar_data_reuniao\n",
    "\n"
   ]
  },
  {
   "cell_type": "code",
   "execution_count": 48,
   "metadata": {},
   "outputs": [
    {
     "name": "stdout",
     "output_type": "stream",
     "text": [
      "Data da reúnião: ['-11-06-19']\n",
      "Número de Vereadores presentes: 5 \n",
      "Lista com os Vereadores Presentes: ['Fausto  Niquini', 'Flávio  de  Almeida', 'Álvaro Azevedo', 'Fausto Niquini', 'Boi']\n",
      "Ouve Reunião: Não\n"
     ]
    }
   ],
   "source": [
    "presentes = []\n",
    "with open('./Vereadores.txt','r',encoding='utf-8') as vereadores_txt:\n",
    "        vereadores = vereadores_txt.read()\n",
    "\n",
    "with open('./Apelidos.txt','r',encoding='utf-8') as apelidos_txt:\n",
    "        apelidos = apelidos_txt.read()\n",
    "        \n",
    "        \n",
    "for nomes in vereadores.split('\\n'):\n",
    "        if nomes in text:\n",
    "            if apelido not in presentes:\n",
    "                presentes.append(nomes)\n",
    "\n",
    "for apelido in apelidos.split('\\n'):\n",
    "             if apelido in text:\n",
    "                if apelido not in presentes:\n",
    "                     presentes.append(apelido)\n",
    "\n",
    "def ouve_reuniao():\n",
    "    if (len(presentes)> 8):\n",
    "        return \"Sim\"\n",
    "    else:\n",
    "        return \"Não\"\n",
    "\n",
    "print(f\"Data da reúnião: {pegar_data_reuniao}\")\n",
    "print(f\"Número de Vereadores presentes: {len(presentes)} \")\n",
    "print(f\"Lista com os Vereadores Presentes: {presentes}\")\n",
    "print(f\"Ouve Reunião: {ouve_reuniao()}\")\n",
    "\n",
    "\n"
   ]
  },
  {
   "cell_type": "code",
   "execution_count": null,
   "metadata": {},
   "outputs": [],
   "source": [
    "def show_wordcloud(data, title = None):\n",
    "    wordcloud = WordCloud(background_color = 'white', max_words = 500, max_font_size=70).generate(str(data))\n",
    "    fig = plt.figure(1, figsize=(20,20))\n",
    "    plt.axis('off')\n",
    "    plt.title(title, size = 25)\n",
    "    plt.imshow(wordcloud, interpolation='bilinear')\n",
    "    plt.show()\n",
    "\n",
    "show_wordcloud(text,  'Nuvem de palavras')"
   ]
  },
  {
   "cell_type": "code",
   "execution_count": null,
   "metadata": {},
   "outputs": [],
   "source": [
    "text = text.rstrip().replace('\\n', '').lower()"
   ]
  },
  {
   "cell_type": "code",
   "execution_count": null,
   "metadata": {},
   "outputs": [],
   "source": [
    "def show_wordcloud(data, title = None):\n",
    "    wordcloud = WordCloud(background_color = 'white', max_words = 500, max_font_size=70).generate(str(data))\n",
    "    fig = plt.figure(1, figsize=(20,20))\n",
    "    plt.axis('off')\n",
    "    plt.title(title, size = 25)\n",
    "    plt.imshow(wordcloud, interpolation='bilinear')\n",
    "    plt.show()\n",
    "\n",
    "show_wordcloud(text,  'Nuvem de palavras')"
   ]
  },
  {
   "cell_type": "code",
   "execution_count": null,
   "metadata": {},
   "outputs": [],
   "source": [
    "#word_tokenize(text)"
   ]
  },
  {
   "cell_type": "code",
   "execution_count": null,
   "metadata": {},
   "outputs": [],
   "source": [
    "tokenizer_projetos2020 = RegexpTokenizer('\\d*.\\d*d*/\\d*')\n",
    "numero_projetos2020 = tokenizer_projetos2020.tokenize(text)\n",
    "numero_projetos2020"
   ]
  },
  {
   "cell_type": "code",
   "execution_count": null,
   "metadata": {},
   "outputs": [],
   "source": [
    "tokenizer_projetos2019 = RegexpTokenizer('\\d*d*/\\d*')\n",
    "numero_projetos2019 = tokenizer_projetos2019.tokenize(text)\n",
    "numero_projetos2019"
   ]
  },
  {
   "cell_type": "code",
   "execution_count": null,
   "metadata": {},
   "outputs": [],
   "source": [
    "tokenizer_digit = RegexpTokenizer('^[ 0-9]+$')\n",
    "digitos = tokenizer_digit.tokenize(text)\n",
    "digitos"
   ]
  },
  {
   "cell_type": "code",
   "execution_count": null,
   "metadata": {},
   "outputs": [],
   "source": [
    "tokens = word_tokenize(text)"
   ]
  },
  {
   "cell_type": "code",
   "execution_count": null,
   "metadata": {},
   "outputs": [],
   "source": [
    "with open('./pontuacao.txt','r',encoding='utf-8') as pontuacao_txt:\n",
    "        pontuacao = pontuacao_txt.read()\n",
    "               \n",
    "with open('./stop_words_custom.txt', 'r', encoding='utf-8') as stop_words_custom_txt:\n",
    "    stop_words_custom = stop_words_custom_txt.read()\n",
    "\n",
    "with open('./nomes_remover.txt','r',encoding='utf-8') as nomes_remover_txt:\n",
    "    nomes_remover = nomes_remover_txt.read()\n",
    "\n",
    "stop_words = set(stopwords.words('portuguese'))"
   ]
  },
  {
   "cell_type": "code",
   "execution_count": null,
   "metadata": {},
   "outputs": [],
   "source": [
    "#len(tokens)"
   ]
  },
  {
   "cell_type": "code",
   "execution_count": null,
   "metadata": {},
   "outputs": [],
   "source": [
    "resultado1 = [resultado for resultado in tokens if resultado not in stop_words]"
   ]
  },
  {
   "cell_type": "code",
   "execution_count": null,
   "metadata": {},
   "outputs": [],
   "source": [
    "#print(len(resultado1))"
   ]
  },
  {
   "cell_type": "code",
   "execution_count": null,
   "metadata": {},
   "outputs": [],
   "source": [
    "resultado2 = [resultado1 for resultado1 in resultado1 if resultado1 not in pontuacao]"
   ]
  },
  {
   "cell_type": "code",
   "execution_count": null,
   "metadata": {},
   "outputs": [],
   "source": [
    "#print(len(resultado2))"
   ]
  },
  {
   "cell_type": "code",
   "execution_count": null,
   "metadata": {},
   "outputs": [],
   "source": [
    "resultado3 = [resultado2 for resultado2 in resultado2 if resultado2 not in numero_projetos2020]"
   ]
  },
  {
   "cell_type": "code",
   "execution_count": null,
   "metadata": {},
   "outputs": [],
   "source": [
    "#print(len(resultado3))"
   ]
  },
  {
   "cell_type": "code",
   "execution_count": null,
   "metadata": {},
   "outputs": [],
   "source": [
    "resultado4 = [resultado3 for resultado3 in resultado3 if resultado3 not in numero_projetos2019]"
   ]
  },
  {
   "cell_type": "code",
   "execution_count": null,
   "metadata": {},
   "outputs": [],
   "source": [
    "#print(len(resultado4))"
   ]
  },
  {
   "cell_type": "code",
   "execution_count": null,
   "metadata": {},
   "outputs": [],
   "source": [
    "resultado5 = [resultado4 for resultado4 in resultado4 if resultado4 not in nomes_remover]"
   ]
  },
  {
   "cell_type": "code",
   "execution_count": null,
   "metadata": {},
   "outputs": [],
   "source": [
    "#print(len(resultado5))"
   ]
  },
  {
   "cell_type": "code",
   "execution_count": null,
   "metadata": {},
   "outputs": [],
   "source": [
    "resultado6 = [resultado5 for resultado5 in resultado5 if resultado5 not in stop_words_custom]"
   ]
  },
  {
   "cell_type": "code",
   "execution_count": null,
   "metadata": {},
   "outputs": [],
   "source": [
    "print(len(resultado6))"
   ]
  },
  {
   "cell_type": "code",
   "execution_count": null,
   "metadata": {},
   "outputs": [],
   "source": [
    "def show_wordcloud(data, title = None):\n",
    "    wordcloud = WordCloud(background_color = 'white', max_words = 50, max_font_size=70).generate(str(data))\n",
    "    fig = plt.figure(1, figsize=(20,20))\n",
    "    plt.axis('off')\n",
    "    plt.title(title, size = 30)\n",
    "    plt.imshow(wordcloud, interpolation='bilinear')\n",
    "    plt.show()\n",
    "    #print(data)\n",
    "\n",
    "show_wordcloud(resultado6,  'Teste removendo nomes')"
   ]
  },
  {
   "cell_type": "code",
   "execution_count": null,
   "metadata": {},
   "outputs": [],
   "source": [
    "fd = FreqDist(resultado6)"
   ]
  },
  {
   "cell_type": "code",
   "execution_count": null,
   "metadata": {},
   "outputs": [],
   "source": [
    "pesquisar= [fd for fd, _ in fd.most_common(5) if fd not in pontuacao]\n",
    "pesquisar"
   ]
  },
  {
   "cell_type": "code",
   "execution_count": null,
   "metadata": {},
   "outputs": [],
   "source": [
    "import time\n",
    "import requests\n",
    "import pandas as pd\n",
    "from bs4 import BeautifulSoup\n",
    "from selenium import webdriver\n",
    "from selenium.webdriver.firefox.options import Options\n",
    "import json"
   ]
  },
  {
   "cell_type": "code",
   "execution_count": null,
   "metadata": {},
   "outputs": [],
   "source": [
    "url = 'https://www.dicionarioinformal.com.br/'"
   ]
  },
  {
   "cell_type": "code",
   "execution_count": null,
   "metadata": {},
   "outputs": [],
   "source": [
    "from selenium.webdriver.firefox.firefox_binary import FirefoxBinary\n",
    "binary = FirefoxBinary('C:\\\\Program Files\\\\Mozilla Firefox\\\\firefox.exe')\n",
    "driver = webdriver.Firefox(firefox_binary=binary, executable_path=r'C:\\\\geckodriver-v0.27.0-win64\\\\geckodriver.exe')"
   ]
  },
  {
   "cell_type": "code",
   "execution_count": null,
   "metadata": {},
   "outputs": [],
   "source": [
    "driver.get(url)\n",
    "time.sleep(10)"
   ]
  },
  {
   "cell_type": "code",
   "execution_count": null,
   "metadata": {},
   "outputs": [],
   "source": [
    "significados = []\n",
    "for i  in pesquisar:\n",
    "    driver.refresh()\n",
    "    time.sleep(5)\n",
    "    driver.get(url)\n",
    "    time.sleep(5)\n",
    "    campo_exercicio = driver.find_element_by_id(\"buscar_input\")\n",
    "    campo_exercicio.send_keys(i)\n",
    "    time.sleep(5)\n",
    "    comfirmar = driver.find_element_by_id('buscar_input')\n",
    "    comfirmar.send_keys(u'\\ue007')\n",
    "    time.sleep(5)\n",
    "    definicao = driver.find_element_by_xpath(\"//div[@class='card-body card-padding card-body-di']\")\n",
    "    conteudo_definicao = definicao.get_attribute('outerHTML')\n",
    "    sopa = BeautifulSoup(conteudo_definicao, 'html.parser')\n",
    "    p = sopa.find(name='p')\n",
    "    significados.append(i)\n",
    "    significados.append(p)\n",
    "    time.sleep(5)"
   ]
  },
  {
   "cell_type": "code",
   "execution_count": null,
   "metadata": {},
   "outputs": [],
   "source": [
    "significados"
   ]
  },
  {
   "cell_type": "code",
   "execution_count": null,
   "metadata": {},
   "outputs": [],
   "source": [
    "driver.quit()"
   ]
  }
 ],
 "metadata": {
  "kernelspec": {
   "display_name": "Python 3",
   "language": "python",
   "name": "python3"
  },
  "language_info": {
   "codemirror_mode": {
    "name": "ipython",
    "version": 3
   },
   "file_extension": ".py",
   "mimetype": "text/x-python",
   "name": "python",
   "nbconvert_exporter": "python",
   "pygments_lexer": "ipython3",
   "version": "3.8.3"
  }
 },
 "nbformat": 4,
 "nbformat_minor": 4
}
