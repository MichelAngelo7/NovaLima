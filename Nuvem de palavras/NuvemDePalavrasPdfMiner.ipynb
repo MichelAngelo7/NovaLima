{
 "cells": [
  {
   "cell_type": "code",
   "execution_count": 1,
   "metadata": {},
   "outputs": [],
   "source": [
    "import io\n",
    "import json\n",
    "import re\n",
    "import requests\n",
    "import time\n",
    "from pdfminer.high_level import extract_text\n",
    "from nltk.tokenize import word_tokenize\n",
    "from nltk.tokenize import RegexpTokenizer\n",
    "from nltk.corpus import stopwords\n",
    "from nltk.probability import FreqDist\n",
    "from nltk.stem import SnowballStemmer\n",
    "from matplotlib import pyplot as plt\n",
    "from wordcloud import WordCloud"
   ]
  },
  {
   "cell_type": "code",
   "execution_count": 2,
   "metadata": {},
   "outputs": [],
   "source": [
    "#url = \"https://www.cmnovalima.mg.gov.br/wp-content/uploads/2020/09/12ata-r.e.-virtual-setembro-10-09-2020.pdf\"\n",
    "#sem quorum.\n",
    "#url =\"https://www.cmnovalima.mg.gov.br/wp-content/uploads/2020/08/07ataa-r.e.-virtual-agosto-06-08-2020.pdf\"\n",
    "#sem quorum.\n",
    "#url =\"https://www.cmnovalima.mg.gov.br/wp-content/uploads/2020/09/09ataa-r.e.-virtual-agosto-20-08-2020-3.pdf\"\n",
    "#url = \"https://www.cmnovalima.mg.gov.br/wp-content/uploads/2019/10/ata-r.o.-15-10-19.pdf\"\n",
    "######\n",
    "#url =\"https://www.cmnovalima.mg.gov.br/wp-content/uploads/2019/02/ata-r.soleneordinaria-05-02-19.pdf\"\n",
    "#url = \"https://www.cmnovalima.mg.gov.br/wp-content/uploads/2019/02/ata-r.o.-12-02-19.pdf\"\n",
    "######url = \"https://www.cmnovalima.mg.gov.br/wp-content/uploads/2019/03/ata-r.o.-19-02-19.pdf\"\n",
    "###\n",
    "####url = \"https://www.cmnovalima.mg.gov.br/wp-content/uploads/2019/03/ata-r.o.-26-02-19.pdf\"\n",
    "#url = \"https://www.cmnovalima.mg.gov.br/wp-content/uploads/2019/03/ata-r.o.-12-03-19.pdf\"\n",
    "#url = \"https://www.cmnovalima.mg.gov.br/wp-content/uploads/2019/03/ata-r.extraordinaria-15-03-19.pdf\"\n",
    "#url = \"https://www.cmnovalima.mg.gov.br/wp-content/uploads/2019/04/ata-r.o.-19-03-19.pdf\"\n",
    "#url = \"https://www.cmnovalima.mg.gov.br/wp-content/uploads/2019/04/ata-r.o.-26-03-19.pdf\"\n",
    "#url = \"https://www.cmnovalima.mg.gov.br/wp-content/uploads/2019/04/ata-r.o.-02-04-19.pdf\"\n",
    "#url = \"https://www.cmnovalima.mg.gov.br/wp-content/uploads/2019/04/ata-r.o.-09-04-19.pdf\"\n",
    "###\n",
    "#url =\"https://www.cmnovalima.mg.gov.br/wp-content/uploads/2019/04/ata-r.o.-16-04-19.pdf\"\n",
    "#url = \"https://www.cmnovalima.mg.gov.br/wp-content/uploads/2019/05/ata-r.o.-23-04-19.pdf\"\n",
    "#url = \"https://www.cmnovalima.mg.gov.br/wp-content/uploads/2019/05/ata-r.o.-30-04-19.pdf\"\n",
    "#url = \"https://www.cmnovalima.mg.gov.br/wp-content/uploads/2019/05/ata-r.o.-07-05-19.pdf\"\n",
    "#url = \"https://www.cmnovalima.mg.gov.br/wp-content/uploads/2019/05/ata-r.o.-14-05-19-1.pdf\"\n",
    "#url = \"https://www.cmnovalima.mg.gov.br/wp-content/uploads/2019/05/mae-destaque-nova-limense-16-05-2019-3.pdf\"\n",
    "#url = \"https://www.cmnovalima.mg.gov.br/wp-content/uploads/2019/06/ata-r.o.-21-05-19-1.pdf\"\n",
    "#url = \"https://www.cmnovalima.mg.gov.br/wp-content/uploads/2019/06/ata-r.o.-28-05-19-1.pdf\"\n",
    "#url = \"https://www.cmnovalima.mg.gov.br/wp-content/uploads/2019/06/ata-r.o.-04-06-19.pdf\"\n",
    "#url = \"https://www.cmnovalima.mg.gov.br/wp-content/uploads/2019/06/ata-r.o.-11-06-19.pdf\"\n",
    "#url = \"https://www.cmnovalima.mg.gov.br/wp-content/uploads/2019/07/ata-r.o.-18-06-19.pdf\"\n",
    "#url = \"https://www.cmnovalima.mg.gov.br/wp-content/uploads/2019/07/ata-r.o.-25-06-19.pdf\"\n",
    "#url = \"https://www.cmnovalima.mg.gov.br/wp-content/uploads/2019/08/ata-r.o.-02-07-19.pdf\"\n",
    "\n",
    "\n",
    "#\"Ata: ['-r.o.-25-06-19.pdf'] NumeroPaginas: 26\"       \n",
    "#url = \"https://www.cmnovalima.mg.gov.br/wp-content/uploads/2019/07/ata-r.o.-25-06-19.pdf\"\n",
    "    \n",
    "    \n",
    "#\"Ata: ['-r.o.-28-05-19-1.pdf'] NumeroPaginas: 28\"\n",
    "#url = \"https://www.cmnovalima.mg.gov.br/wp-content/uploads/2019/06/ata-r.o.-28-05-19-1.pdf\"\n",
    "\n",
    "\n",
    "#\"Ata: ['-r.o.-23-04-19.pdf'] NumeroPaginas: 26\"\n",
    "#url = \"https://www.cmnovalima.mg.gov.br/wp-content/uploads/2019/05/ata-r.o.-23-04-19.pdf\" \n",
    "    \n",
    "    \n",
    "#\"Ata: ['-r.o.-11-06-19.pdf'] NumeroPaginas: 1\"\n",
    "#url = \"https://www.cmnovalima.mg.gov.br/wp-content/uploads/2019/06/ata-r.o.-11-06-19.pdf\"\n",
    "    \n",
    "#\"Ata: ['-r.o.-02-04-19.pdf'] NumeroPaginas: 1\"\n",
    "#url= \"https://www.cmnovalima.mg.gov.br/wp-content/uploads/2019/04/ata-r.o.-02-04-19.pdf\"    \n",
    "    \n",
    "#\"Ata: ['-r.o.-12-02-19.pdf'] NumeroPaginas: 1\n",
    "url = \"https://www.cmnovalima.mg.gov.br/wp-content/uploads/2019/02/ata-r.o.-12-02-19.pdf\"\n",
    "    \n"
   ]
  },
  {
   "cell_type": "code",
   "execution_count": 3,
   "metadata": {},
   "outputs": [],
   "source": [
    "resposta =  requests.get(url)"
   ]
  },
  {
   "cell_type": "code",
   "execution_count": 4,
   "metadata": {},
   "outputs": [
    {
     "ename": "PDFSyntaxError",
     "evalue": "No /Root object! - Is this really a PDF?",
     "output_type": "error",
     "traceback": [
      "\u001b[1;31m---------------------------------------------------------------------------\u001b[0m",
      "\u001b[1;31mPDFSyntaxError\u001b[0m                            Traceback (most recent call last)",
      "\u001b[1;32m<ipython-input-4-54730d57269c>\u001b[0m in \u001b[0;36m<module>\u001b[1;34m\u001b[0m\n\u001b[0;32m      1\u001b[0m \u001b[1;32mwith\u001b[0m \u001b[0mio\u001b[0m\u001b[1;33m.\u001b[0m\u001b[0mBytesIO\u001b[0m\u001b[1;33m(\u001b[0m\u001b[0mresposta\u001b[0m\u001b[1;33m.\u001b[0m\u001b[0mcontent\u001b[0m\u001b[1;33m)\u001b[0m \u001b[1;32mas\u001b[0m \u001b[0mabrir_pdf\u001b[0m\u001b[1;33m:\u001b[0m\u001b[1;33m\u001b[0m\u001b[1;33m\u001b[0m\u001b[0m\n\u001b[1;32m----> 2\u001b[1;33m     \u001b[0mtext\u001b[0m \u001b[1;33m=\u001b[0m \u001b[0mextract_text\u001b[0m\u001b[1;33m(\u001b[0m\u001b[0mabrir_pdf\u001b[0m\u001b[1;33m)\u001b[0m\u001b[1;33m\u001b[0m\u001b[1;33m\u001b[0m\u001b[0m\n\u001b[0m\u001b[0;32m      3\u001b[0m \u001b[1;33m\u001b[0m\u001b[0m\n\u001b[0;32m      4\u001b[0m \u001b[1;33m\u001b[0m\u001b[0m\n",
      "\u001b[1;32m~\\Anaconda3\\lib\\site-packages\\pdfminer\\high_level.py\u001b[0m in \u001b[0;36mextract_text\u001b[1;34m(pdf_file, password, page_numbers, maxpages, caching, codec, laparams)\u001b[0m\n\u001b[0;32m    112\u001b[0m         \u001b[0minterpreter\u001b[0m \u001b[1;33m=\u001b[0m \u001b[0mPDFPageInterpreter\u001b[0m\u001b[1;33m(\u001b[0m\u001b[0mrsrcmgr\u001b[0m\u001b[1;33m,\u001b[0m \u001b[0mdevice\u001b[0m\u001b[1;33m)\u001b[0m\u001b[1;33m\u001b[0m\u001b[1;33m\u001b[0m\u001b[0m\n\u001b[0;32m    113\u001b[0m \u001b[1;33m\u001b[0m\u001b[0m\n\u001b[1;32m--> 114\u001b[1;33m         for page in PDFPage.get_pages(\n\u001b[0m\u001b[0;32m    115\u001b[0m                 \u001b[0mfp\u001b[0m\u001b[1;33m,\u001b[0m\u001b[1;33m\u001b[0m\u001b[1;33m\u001b[0m\u001b[0m\n\u001b[0;32m    116\u001b[0m                 \u001b[0mpage_numbers\u001b[0m\u001b[1;33m,\u001b[0m\u001b[1;33m\u001b[0m\u001b[1;33m\u001b[0m\u001b[0m\n",
      "\u001b[1;32m~\\Anaconda3\\lib\\site-packages\\pdfminer\\pdfpage.py\u001b[0m in \u001b[0;36mget_pages\u001b[1;34m(cls, fp, pagenos, maxpages, password, caching, check_extractable)\u001b[0m\n\u001b[0;32m    126\u001b[0m         \u001b[0mparser\u001b[0m \u001b[1;33m=\u001b[0m \u001b[0mPDFParser\u001b[0m\u001b[1;33m(\u001b[0m\u001b[0mfp\u001b[0m\u001b[1;33m)\u001b[0m\u001b[1;33m\u001b[0m\u001b[1;33m\u001b[0m\u001b[0m\n\u001b[0;32m    127\u001b[0m         \u001b[1;31m# Create a PDF document object that stores the document structure.\u001b[0m\u001b[1;33m\u001b[0m\u001b[1;33m\u001b[0m\u001b[1;33m\u001b[0m\u001b[0m\n\u001b[1;32m--> 128\u001b[1;33m         \u001b[0mdoc\u001b[0m \u001b[1;33m=\u001b[0m \u001b[0mPDFDocument\u001b[0m\u001b[1;33m(\u001b[0m\u001b[0mparser\u001b[0m\u001b[1;33m,\u001b[0m \u001b[0mpassword\u001b[0m\u001b[1;33m=\u001b[0m\u001b[0mpassword\u001b[0m\u001b[1;33m,\u001b[0m \u001b[0mcaching\u001b[0m\u001b[1;33m=\u001b[0m\u001b[0mcaching\u001b[0m\u001b[1;33m)\u001b[0m\u001b[1;33m\u001b[0m\u001b[1;33m\u001b[0m\u001b[0m\n\u001b[0m\u001b[0;32m    129\u001b[0m         \u001b[1;31m# Check if the document allows text extraction.\u001b[0m\u001b[1;33m\u001b[0m\u001b[1;33m\u001b[0m\u001b[1;33m\u001b[0m\u001b[0m\n\u001b[0;32m    130\u001b[0m         \u001b[1;31m# If not, warn the user and proceed.\u001b[0m\u001b[1;33m\u001b[0m\u001b[1;33m\u001b[0m\u001b[1;33m\u001b[0m\u001b[0m\n",
      "\u001b[1;32m~\\Anaconda3\\lib\\site-packages\\pdfminer\\pdfdocument.py\u001b[0m in \u001b[0;36m__init__\u001b[1;34m(self, parser, password, caching, fallback)\u001b[0m\n\u001b[0;32m    594\u001b[0m                 \u001b[1;32mbreak\u001b[0m\u001b[1;33m\u001b[0m\u001b[1;33m\u001b[0m\u001b[0m\n\u001b[0;32m    595\u001b[0m         \u001b[1;32melse\u001b[0m\u001b[1;33m:\u001b[0m\u001b[1;33m\u001b[0m\u001b[1;33m\u001b[0m\u001b[0m\n\u001b[1;32m--> 596\u001b[1;33m             \u001b[1;32mraise\u001b[0m \u001b[0mPDFSyntaxError\u001b[0m\u001b[1;33m(\u001b[0m\u001b[1;34m'No /Root object! - Is this really a PDF?'\u001b[0m\u001b[1;33m)\u001b[0m\u001b[1;33m\u001b[0m\u001b[1;33m\u001b[0m\u001b[0m\n\u001b[0m\u001b[0;32m    597\u001b[0m         \u001b[1;32mif\u001b[0m \u001b[0mself\u001b[0m\u001b[1;33m.\u001b[0m\u001b[0mcatalog\u001b[0m\u001b[1;33m.\u001b[0m\u001b[0mget\u001b[0m\u001b[1;33m(\u001b[0m\u001b[1;34m'Type'\u001b[0m\u001b[1;33m)\u001b[0m \u001b[1;32mis\u001b[0m \u001b[1;32mnot\u001b[0m \u001b[0mLITERAL_CATALOG\u001b[0m\u001b[1;33m:\u001b[0m\u001b[1;33m\u001b[0m\u001b[1;33m\u001b[0m\u001b[0m\n\u001b[0;32m    598\u001b[0m             \u001b[1;32mif\u001b[0m \u001b[0msettings\u001b[0m\u001b[1;33m.\u001b[0m\u001b[0mSTRICT\u001b[0m\u001b[1;33m:\u001b[0m\u001b[1;33m\u001b[0m\u001b[1;33m\u001b[0m\u001b[0m\n",
      "\u001b[1;31mPDFSyntaxError\u001b[0m: No /Root object! - Is this really a PDF?"
     ]
    }
   ],
   "source": [
    "with io.BytesIO(resposta.content) as abrir_pdf:\n",
    "    text = extract_text(abrir_pdf)\n",
    "\n",
    "\n"
   ]
  },
  {
   "cell_type": "code",
   "execution_count": null,
   "metadata": {},
   "outputs": [],
   "source": [
    "def show_wordcloud(data, title = None):\n",
    "    wordcloud = WordCloud(background_color = 'white', max_words = 500, max_font_size=70).generate(str(data))\n",
    "    fig = plt.figure(1, figsize=(20,20))\n",
    "    plt.axis('off')\n",
    "    plt.title(title, size = 25)\n",
    "    plt.imshow(wordcloud, interpolation='bilinear')\n",
    "    plt.show()\n",
    "\n",
    "show_wordcloud(text,  'Nuvem de palavras')"
   ]
  },
  {
   "cell_type": "code",
   "execution_count": null,
   "metadata": {},
   "outputs": [],
   "source": [
    "text = text.rstrip().replace('\\n', '').lower()"
   ]
  },
  {
   "cell_type": "code",
   "execution_count": null,
   "metadata": {},
   "outputs": [],
   "source": [
    "def show_wordcloud(data, title = None):\n",
    "    wordcloud = WordCloud(background_color = 'white', max_words = 500, max_font_size=70).generate(str(data))\n",
    "    fig = plt.figure(1, figsize=(20,20))\n",
    "    plt.axis('off')\n",
    "    plt.title(title, size = 25)\n",
    "    plt.imshow(wordcloud, interpolation='bilinear')\n",
    "    plt.show()\n",
    "\n",
    "show_wordcloud(text,  'Nuvem de palavras')"
   ]
  },
  {
   "cell_type": "code",
   "execution_count": null,
   "metadata": {},
   "outputs": [],
   "source": [
    "#word_tokenize(text)"
   ]
  },
  {
   "cell_type": "code",
   "execution_count": null,
   "metadata": {},
   "outputs": [],
   "source": [
    "tokenizer_projetos2020 = RegexpTokenizer('\\d*.\\d*d*/\\d*')\n",
    "numero_projetos2020 = tokenizer_projetos2020.tokenize(text)\n",
    "numero_projetos2020"
   ]
  },
  {
   "cell_type": "code",
   "execution_count": null,
   "metadata": {},
   "outputs": [],
   "source": [
    "tokenizer_projetos2019 = RegexpTokenizer('\\d*d*/\\d*')\n",
    "numero_projetos2019 = tokenizer_projetos2020.tokenize(text)\n",
    "numero_projetos2019"
   ]
  },
  {
   "cell_type": "code",
   "execution_count": null,
   "metadata": {},
   "outputs": [],
   "source": []
  },
  {
   "cell_type": "code",
   "execution_count": null,
   "metadata": {},
   "outputs": [],
   "source": [
    "tokens = word_tokenize(text)\n",
    "\n",
    "\n",
    "pontuacao = [\n",
    "             '(',\n",
    "             ')',\n",
    "             ';',\n",
    "             ':',\n",
    "             '[',\n",
    "             ']',\n",
    "             ',',\n",
    "             '-',\n",
    "             '?',\n",
    "             'nº',\n",
    "             's',\n",
    "             '\"',\n",
    "             \"'\",\n",
    "             '.',\n",
    "             '”',\n",
    "             '“',\n",
    "             '”',\n",
    "             '“',\n",
    "             '-',\n",
    "             '–',\n",
    "           '...',\n",
    "             '‘',\n",
    "             '’',\n",
    "             '/',\n",
    "             '%',\n",
    "    '.________________________________________________________',\n",
    "    '._____________________________________',\n",
    "    '.___________________________________________',\n",
    "    '.__________________________________________',\n",
    "    '._____________________',\n",
    "    '.______________________________________________________________',\n",
    "                ]\n",
    "\n",
    "stop_words = set(stopwords.words('portuguese'))\n",
    "\n",
    "stop_words_custom = ['0', '1', '10', '17', '18', '2', '2020', '3', '4', '5',\n",
    "                     '50', '6', '7', '8', '9', 'abençoe', 'abençõe', 'aberta', 'abraço', 'abril',\n",
    "                     'abrimos', 'acabou', 'acesso', 'achando-se', 'acho', 'acompanha', 'acrescentado',\n",
    "                     'ad', 'administração', 'adotiva', 'afirmou', 'agora', 'agosto', 'agradecendo', 'agradecer', \n",
    "                     'agradeço', 'aguiar', 'ah', 'ainda', 'ajuda', 'ajudar', 'alessandro', 'alessandro luiz bonifácio', \n",
    "                     'algum', 'algumas', 'alguns', 'ali', 'almeida', 'alonso', 'altera', 'alterar', 'além', 'amigo',\n",
    "                     'amigos', 'amor', 'ano', 'anos', 'antes', 'anunciou', 'aparte', 'aplausos', 'apoio', 'apostas', \n",
    "                     'aprendi', 'apresentação', 'após', 'aqui', 'art', 'artigo', 'assembleia', 'assessor', 'assessoria',\n",
    "                     'assim', 'assinar', 'assinaturas', 'assiste','assistem', 'associação', 'assunto', 'ata', 'atendendo', \n",
    "                     'atender', 'atenção', 'através', 'atrás', 'audiência', 'autoria', 'azevedo', 'aí', 'bacana', 'baixo',\n",
    "                     'banqueta', 'bem', 'bem-vindo', 'bicalho', 'bilhete', 'boa', 'boca', 'boi', 'bom', 'bonifácio', 'bota', \n",
    "                     'cada', 'cair', 'cala', 'calendário', 'cara', 'carinho', 'carlos', 'casa', 'caso', 'certeza', 'certo', \n",
    "                     'chamada', 'chegar', 'cheguei', 'cidade', 'cima', 'cinco', 'cinquenta', 'claro', 'coisa', 'coisas',\n",
    "                     'colete', 'colete', 'colocar', 'coloco', 'colocou', 'colocou', 'colocou-a', 'colocou-as', 'comigo',\n",
    "                     'comissão', 'comprimentar', 'comunicou', 'comunidade', 'concede', 'concordam', 'conferirem-na',\n",
    "                     'conferirem-nas', 'conforme', 'conheço', 'constatando-se', 'constituída', 'continuar', 'convidou',\n",
    "                     'convocação', 'coração', 'correspondência', 'correspondências', 'coxinha', 'cumprimentar', 'cumprimento',\n",
    "                     'cumprimentos', 'cumprimentá-los', 'cutucando', 'câmara', 'd', 'dando', 'daquela', 'dar', 'data',\n",
    "                     'ddeclaro', 'declaro', 'declarou', 'deixa', 'deixar', 'deliberação', 'demais', 'dentro', 'deputado',\n",
    "                     'desde', 'desejo', 'desembro', 'dessa', 'dessas', 'desse', 'desses', 'desta', 'deste', 'deu', 'deus',\n",
    "                     'devido', 'dez', 'dezembro', 'dezenove', 'dezesseis', 'dezoito', 'dia', 'diante', 'dias', 'diferente',\n",
    "                     'diga-se', 'diretora', 'diretrizes', 'discussão', 'discutindo', 'disponibilizar', 'dispõe', 'disse',\n",
    "                     'disso', 'diz', 'dizendo', 'dizer', 'documentos', 'dois', 'doze', 'dr', 'duas', 'durante', 'dá', 'dúvida',\n",
    "                     'ederson', 'ederson sebastião pinto', 'emenda', 'emenda', 'emendas', 'emissão', 'emitiu', 'empresa', 'encaminhada',\n",
    "                     'encaminhadas', 'encaminhado', 'encaminho', 'encerrada', 'encerrar', 'encontrava-se', 'enquanto', 'entendeu',\n",
    "                     'entendi', 'entregue', 'então', 'errado', 'especial', 'especifica', 'esperar', 'espero', 'esposa', 'estabelece',\n",
    "                     'estado', 'estadual', 'estar', 'estaremos', 'estará', 'ex-prefeito', 'ex-presidente', 'exatamente', 'excelência',\n",
    "                     'exceção', 'executar', 'executivo', 'exemplo', 'existe', 'explicar', 'extatamente', 'extraordinária', 'fala',\n",
    "                     'falando', 'falar', 'falei', 'falo', 'falou', 'falta', 'faria', 'fato', 'fausto', 'fausto niquini ferreira',\n",
    "                     'favor', 'favoráveis', 'favorável', 'faz', 'fazendo', 'fazer', 'faça', 'façamos', 'faço', 'feira', 'feita',\n",
    "                     'feitas', 'feito', 'feliz', 'ferreira', 'fevereiro', 'fez', 'fica', 'ficar', 'fico', 'fiz', 'fizemos', 'fizeram',\n",
    "                     'flavio', 'flávio', 'flávio de almeida', 'fmfpm', 'forma', 'força', 'frente', 'frente', 'fé', 'gabinetes', 'gas',\n",
    "                     'gente', 'geraldo', 'gostaria', 'gosto', 'governo', 'grade', 'grande', 'graça', 'graças', 'guedes', 'gás', 'hino', \n",
    "                     'história', 'hoc', 'hoje', 'hora', 'horas', 'horário', 'igual', 'ii', 'impacto', 'importante', 'impressionante',\n",
    "                     'incentivo', 'inclusive', 'indo', 'infelizmente', 'iniciar', 'inserido', 'institui', 'integral', 'inteiro', 'interessante', \n",
    "                     'interno', 'interresante', 'intuito', 'início', 'ir', 'jamais', 'janeiro', 'jeito', 'jesus', 'josé', 'josé carlos de oliveira',\n",
    "                     'joão', 'julho', 'junho', 'junto', 'juntos', 'justiça', 'kim', 'kim do gas', 'kim do gás', 'lado', 'legal', 'legislativa',\n",
    "                     'legislativo', 'legislação', 'lei', 'leitura', 'ler', 'levar', 'li', 'lima', 'limense', 'lislie', 'livro', 'logo', 'lugar',\n",
    "                     'luiz', 'luta', 'lá', 'maio', 'maior', 'mandar', 'mandato', 'manhã', 'manifestou', 'março', 'meio', 'melhor', 'menos', 'merece',\n",
    "                     'mesa', 'mesma', 'mesquita', 'mil', 'mim', 'minuto', 'minutos', 'momento', 'morais', 'moção', 'muita', 'muitas', 'municipais',\n",
    "                     'municipal', 'município', 'mês', 'nacional', 'nada', 'naquele', 'naturalmente', 'nenhum', 'nenhuma', 'nessa', 'nesse', 'nesse',\n",
    "                     'nesses', 'nesta', 'neste', 'ninguém', 'niquini', 'noite', 'nome', 'nova', 'nova', 'nova-limense', 'nova-limenses', 'novamente',\n",
    "                     'nove', 'novembro', 'noventa', 'nunca', 'número', 'obrigado', 'obrigação', 'observação', 'oi', 'oitenta', 'oito', 'ok', 'olha',\n",
    "                     'oliveira', 'onde', 'ontem', 'opinião', 'oportunidade', 'ordem', 'ordinária', 'orgulho', 'outra', 'outras', 'outro', 'outros',\n",
    "                     'outubro', 'ouvir', 'pai', 'palavra', 'palavras', 'parabenizar', 'parabéns', 'paragáfo', 'parece', 'parecer', 'pares', \n",
    "                     'parlamentar', 'parte', 'participei', 'participou', 'partido', 'passa', 'passado', 'passando', 'passar', 'pasta', 'pauta',\n",
    "                     'pedido', 'pedindo', 'pedir', 'percentual', 'perda', 'perez', 'permaneçam', 'permite', 'pessoa', 'pessoal', 'pessoas', 'peço',\n",
    "                     'pinto', 'plenária', 'plenário', 'pode', 'podem', 'poder', 'poderia', 'política', 'população', 'porque', 'porta', 'porta',\n",
    "                     'portaria', 'portas', 'possa', 'posse', 'posso', 'possível', 'pouco', 'povo', 'prazo', 'precisa', 'prefeito', 'prefeitura',\n",
    "                     'presente', 'presentes', 'presença', 'presidente', 'presidindo', 'primeira', 'primeiro', 'principalmente', 'prioridade',\n",
    "                     'problema', 'problemas', 'processo', 'proferiu', 'projeto', 'projetos', 'promessas', 'promulgação', 'pronunciamento',\n",
    "                     'proteção', 'providências', 'proximo', 'próprio', 'próxima', 'próximo', 'puder', 'pudesse', 'pé', 'pública', 'público',\n",
    "                     'públicos', 'qualquer', 'quanto', 'quarta-feira', 'quatro', 'quebra', 'quer', 'queria', 'querido', 'quero', 'questão',\n",
    "                     'quinze', 'quiser', 'quê', 'realização', 'realmente', 'recebidas', 'recomendação', 'redação', 'referente', 'regimento',\n",
    "                     'registrado', 'registrar', 'regularizar', 'regularização', 'relação', 'remota', 'repetir', 'representando', 'representação',\n",
    "                     'requer', 'requerimento', 'requerimentos', 'resolução', 'resolver', 'respeito', 'ressaltar', 'reuniu-se', 'reunião',\n",
    "                     'reuniões', 'rogo', 'rosana', 'rua', 'sabe', 'sabemos', 'saber', 'sair', 'sala', 'sanção', 'se', 'se', 'sebastião',\n",
    "                     'secretário', 'sede', 'seguida', 'seguinte', 'segunda', 'segundo', 'sei', 'seis', 'semana', 'sempre', 'sendo', 'senhor',\n",
    "                     'senhora', 'senhores', 'sentido', 'senão', 'ser', 'serginho', 'servidor', 'serviço', 'serviços', 'servodores', 'sessenta',\n",
    "                     'sete', 'setembro', 'silva', 'silva', 'silvânio', 'silvânio aguiar silva', 'silêncio', 'sim', 'simplesmente', 'situação',\n",
    "                     'sob', 'sobre', 'solicita', 'solicitação', 'solicito', 'solicitou', 'somente', 'soneca', 'substituição', 'sucesso', 'sério',\n",
    "                     'talvez', 'tanto', 'tarde', 'tempo', 'tendo', 'ter', 'terça', 'terça-feira', 'tiago', 'tiago tito', 'tito', 'toda', 'todas',\n",
    "                     'todo', 'todos', 'tomada', 'total', 'trabalhar', 'trabalhos', 'trago', 'tramitação', 'tranquilo', 'trata', 'tratando-se',\n",
    "                     'tratar', 'trinta', 'três', 'tudo', 'tv', 'tá', 'tão', 'têm', 'ultimo', 'um', 'unica', 'unica', 'uns', 'uso', 'vai',\n",
    "                     'vamos', 'varias', 'vem', 'vendo', 'ver', 'verbal', 'verdade', 'vereador', 'vereadores', 'verificando-se', 'vez', 'vezes',\n",
    "                     'vice-prefeito', 'vice-presidente', 'vida', 'vinte', 'vir', 'virtual', 'virtualmente', 'vista', 'viu', 'vizinho',\n",
    "                     'voltar', 'voltar', 'volto', 'vossa', 'vota', 'votaram', 'votação', 'votações', 'votos', 'vou', 'várias', 'vários',\n",
    "                     'váriros', 'vão', 'vê', 'wendel', 'wesley', 'wesley de jesus silva', 'àqueles', 'álvaro', 'álvaro',\n",
    "                     'álvaro alonso perez morais de azevedo', 'âmbito', 'época', 'última', 'último', 'única'\n",
    "                    ]\n",
    "\n",
    "\n"
   ]
  },
  {
   "cell_type": "code",
   "execution_count": null,
   "metadata": {},
   "outputs": [],
   "source": [
    "#organziar = []\n",
    "#organizar = stop_words_custom\n",
    "#organizar.sort()\n",
    "#print(organizar,  sep=' ', end='\\n',  flush=False)"
   ]
  },
  {
   "cell_type": "code",
   "execution_count": null,
   "metadata": {},
   "outputs": [],
   "source": [
    "len(tokens)"
   ]
  },
  {
   "cell_type": "code",
   "execution_count": null,
   "metadata": {},
   "outputs": [],
   "source": [
    "resultado1 = [resultado for resultado in tokens if resultado not in stop_words]"
   ]
  },
  {
   "cell_type": "code",
   "execution_count": null,
   "metadata": {},
   "outputs": [],
   "source": [
    "print(len(resultado1))"
   ]
  },
  {
   "cell_type": "code",
   "execution_count": null,
   "metadata": {},
   "outputs": [],
   "source": [
    "resultado2 = [resultado1 for resultado1 in resultado1 if resultado1 not in pontuacao]"
   ]
  },
  {
   "cell_type": "code",
   "execution_count": null,
   "metadata": {},
   "outputs": [],
   "source": [
    "print(len(resultado2))"
   ]
  },
  {
   "cell_type": "code",
   "execution_count": null,
   "metadata": {},
   "outputs": [],
   "source": [
    "resultado3 = [resultado2 for resultado2 in resultado2 if resultado2 not in numero_projetos2020]"
   ]
  },
  {
   "cell_type": "code",
   "execution_count": null,
   "metadata": {},
   "outputs": [],
   "source": [
    "print(len(resultado3))"
   ]
  },
  {
   "cell_type": "code",
   "execution_count": null,
   "metadata": {},
   "outputs": [],
   "source": [
    "resultado4 = [resultado3 for resultado3 in resultado3 if resultado3 not in numero_projetos2019]"
   ]
  },
  {
   "cell_type": "code",
   "execution_count": null,
   "metadata": {},
   "outputs": [],
   "source": [
    "print(len(resultado4))"
   ]
  },
  {
   "cell_type": "code",
   "execution_count": null,
   "metadata": {},
   "outputs": [],
   "source": [
    "resultado5 = [resultado4 for resultado4 in resultado4 if resultado4 not in stop_words_custom]"
   ]
  },
  {
   "cell_type": "code",
   "execution_count": null,
   "metadata": {},
   "outputs": [],
   "source": [
    "print(len(resultado5))"
   ]
  },
  {
   "cell_type": "code",
   "execution_count": null,
   "metadata": {},
   "outputs": [],
   "source": [
    "#portuguese_stemmer = SnowballStemmer('portuguese')"
   ]
  },
  {
   "cell_type": "code",
   "execution_count": null,
   "metadata": {},
   "outputs": [],
   "source": [
    "#resultado5 = []\n",
    "#for i in resultado4:\n",
    "    #print(portuguese_stemmer.stem(i))\n",
    "    #resultado5.append(portuguese_stemmer.stem(i))\n",
    "    \n",
    "#resultado5 = word_tokenize(str(resultado5))\n",
    "#len(resultado5)"
   ]
  },
  {
   "cell_type": "code",
   "execution_count": null,
   "metadata": {},
   "outputs": [],
   "source": [
    "#resultado5 = [resultado5 for resultado5 in resultado5 if resultado5 not in pontuacao]"
   ]
  },
  {
   "cell_type": "code",
   "execution_count": null,
   "metadata": {},
   "outputs": [],
   "source": [
    "#len(resultado5)"
   ]
  },
  {
   "cell_type": "code",
   "execution_count": null,
   "metadata": {},
   "outputs": [],
   "source": [
    "def show_wordcloud(data, title = None):\n",
    "    wordcloud = WordCloud(background_color = 'white', max_words = 50, max_font_size=70).generate(str(data))\n",
    "    fig = plt.figure(1, figsize=(20,20))\n",
    "    plt.axis('off')\n",
    "    plt.title(title, size = 30)\n",
    "    plt.imshow(wordcloud, interpolation='bilinear')\n",
    "    plt.show()\n",
    "    print(data)\n",
    "\n",
    "show_wordcloud(resultado5,  '-r.o.-12-02-19.pdf')"
   ]
  },
  {
   "cell_type": "code",
   "execution_count": null,
   "metadata": {},
   "outputs": [],
   "source": [
    "fd = FreqDist(resultado5)\n",
    "fd\n"
   ]
  },
  {
   "cell_type": "code",
   "execution_count": null,
   "metadata": {},
   "outputs": [],
   "source": [
    "\n",
    "#fd = FreqDist(resultado3).plot()\n",
    "#fd\n"
   ]
  },
  {
   "cell_type": "code",
   "execution_count": null,
   "metadata": {},
   "outputs": [],
   "source": [
    "fd = FreqDist(resultado5)\n",
    "teste = []\n",
    "for i in fd.items():\n",
    "     teste.append(i)\n",
    "\n",
    "teste.sort()"
   ]
  },
  {
   "cell_type": "code",
   "execution_count": null,
   "metadata": {},
   "outputs": [],
   "source": [
    "teste"
   ]
  },
  {
   "cell_type": "code",
   "execution_count": null,
   "metadata": {},
   "outputs": [],
   "source": []
  },
  {
   "cell_type": "code",
   "execution_count": null,
   "metadata": {},
   "outputs": [],
   "source": []
  },
  {
   "cell_type": "code",
   "execution_count": null,
   "metadata": {},
   "outputs": [],
   "source": []
  },
  {
   "cell_type": "code",
   "execution_count": null,
   "metadata": {},
   "outputs": [],
   "source": []
  },
  {
   "cell_type": "code",
   "execution_count": null,
   "metadata": {},
   "outputs": [],
   "source": []
  },
  {
   "cell_type": "code",
   "execution_count": null,
   "metadata": {},
   "outputs": [],
   "source": []
  },
  {
   "cell_type": "code",
   "execution_count": null,
   "metadata": {},
   "outputs": [],
   "source": []
  }
 ],
 "metadata": {
  "kernelspec": {
   "display_name": "Python 3",
   "language": "python",
   "name": "python3"
  },
  "language_info": {
   "codemirror_mode": {
    "name": "ipython",
    "version": 3
   },
   "file_extension": ".py",
   "mimetype": "text/x-python",
   "name": "python",
   "nbconvert_exporter": "python",
   "pygments_lexer": "ipython3",
   "version": "3.8.3"
  }
 },
 "nbformat": 4,
 "nbformat_minor": 4
}
