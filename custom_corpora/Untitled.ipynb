{
 "cells": [
  {
   "cell_type": "code",
   "execution_count": 1,
   "metadata": {},
   "outputs": [],
   "source": [
    "import io\n",
    "import json\n",
    "import PyPDF2\n",
    "import re\n",
    "import requests\n",
    "import time\n",
    "from nltk.tokenize import word_tokenize\n",
    "from nltk.corpus import stopwords\n",
    "from nltk.corpus.reader import PlaintextCorpusReader\n"
   ]
  },
  {
   "cell_type": "code",
   "execution_count": 2,
   "metadata": {},
   "outputs": [],
   "source": [
    "url = \"https://www.cmnovalima.mg.gov.br/wp-content/uploads/2020/09/12ata-r.e.-virtual-setembro-10-09-2020.pdf\""
   ]
  },
  {
   "cell_type": "code",
   "execution_count": 3,
   "metadata": {},
   "outputs": [],
   "source": [
    "resposta =  requests.get(url)"
   ]
  },
  {
   "cell_type": "code",
   "execution_count": 4,
   "metadata": {},
   "outputs": [],
   "source": [
    "with io.BytesIO(resposta.content) as abrir_pdf:\n",
    "    ler_pdf = PyPDF2.PdfFileReader(abrir_pdf)\n",
    "    number = ler_pdf.numPages\n",
    "    \n",
    "    fp = open('./teste.txt', 'w')\n",
    "    for i in range(number):\n",
    "        pagina= ler_pdf.getPage(i)\n",
    "        fp.write(pagina.extractText())\n",
    "       \n",
    "    fp.close()"
   ]
  },
  {
   "cell_type": "code",
   "execution_count": 5,
   "metadata": {},
   "outputs": [],
   "source": [
    "#text = text.rstrip().replace('\\n', '').replace(\"'\", '').lower()\n",
    "#text"
   ]
  },
  {
   "cell_type": "code",
   "execution_count": 6,
   "metadata": {},
   "outputs": [
    {
     "data": {
      "text/plain": [
       "<function TextIOWrapper.close()>"
      ]
     },
     "execution_count": 6,
     "metadata": {},
     "output_type": "execute_result"
    }
   ],
   "source": [
    "file_path_ansi = \"teste.txt\"\n",
    "file_path_utf8 = \"output.txt\"\n",
    "\n",
    "#open and encode the original content\n",
    "file_source = open(file_path_ansi, mode='r', encoding='latin-1', errors='ignore')\n",
    "file_content = file_source.read()\n",
    "file_source.close\n",
    "\n",
    "#write \n",
    "file_target = open(file_path_utf8, mode='w', encoding='utf-8')\n",
    "file_target.write(file_content)\n",
    "text = file_target.write(file_content)\n",
    "file_target.close\n"
   ]
  },
  {
   "cell_type": "code",
   "execution_count": null,
   "metadata": {},
   "outputs": [],
   "source": []
  },
  {
   "cell_type": "code",
   "execution_count": 7,
   "metadata": {},
   "outputs": [
    {
     "data": {
      "text/plain": [
       "894"
      ]
     },
     "execution_count": 7,
     "metadata": {},
     "output_type": "execute_result"
    }
   ],
   "source": [
    "plain = PlaintextCorpusReader('.', ['output.txt'])\n",
    "len(plain.paras())"
   ]
  },
  {
   "cell_type": "code",
   "execution_count": null,
   "metadata": {},
   "outputs": [],
   "source": []
  },
  {
   "cell_type": "code",
   "execution_count": null,
   "metadata": {},
   "outputs": [],
   "source": []
  }
 ],
 "metadata": {
  "kernelspec": {
   "display_name": "Python 3",
   "language": "python",
   "name": "python3"
  },
  "language_info": {
   "codemirror_mode": {
    "name": "ipython",
    "version": 3
   },
   "file_extension": ".py",
   "mimetype": "text/x-python",
   "name": "python",
   "nbconvert_exporter": "python",
   "pygments_lexer": "ipython3",
   "version": "3.8.3"
  }
 },
 "nbformat": 4,
 "nbformat_minor": 4
}
