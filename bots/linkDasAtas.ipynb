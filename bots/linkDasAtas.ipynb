{
 "cells": [
  {
   "cell_type": "code",
   "execution_count": 33,
   "metadata": {},
   "outputs": [],
   "source": [
    "#bot resposavel por pegar os links da atas de reunião\n",
    "import time\n",
    "import requests\n",
    "import pandas as pd\n",
    "from bs4 import BeautifulSoup\n",
    "from selenium import webdriver\n",
    "from selenium.webdriver.firefox.options import Options\n",
    "import json\n",
    "import re"
   ]
  },
  {
   "cell_type": "code",
   "execution_count": 23,
   "metadata": {},
   "outputs": [],
   "source": [
    "url = \"https://www.cmnovalima.mg.gov.br/servicos/reunioes/\""
   ]
  },
  {
   "cell_type": "code",
   "execution_count": 49,
   "metadata": {},
   "outputs": [],
   "source": [
    "options = Options()\n",
    "options.headless = True\n",
    "driver = webdriver.Firefox()\n",
    "\n",
    "driver.get(url)\n",
    "time.sleep(5)\n",
    "\n",
    "def links():\n",
    "    tabelaComOsLinks = driver.find_element_by_xpath(\"//table[@class='table']\")\n",
    "    conteudo_tabela = tabelaComOsLinks.get_attribute('outerHTML')\n",
    "    #print(conteudo_tabela)\n",
    "    sopa = BeautifulSoup(conteudo_tabela, 'html.parser')\n",
    "    #print(sopa)\n",
    "    #filtro_sopa = sopa.find_all()\n",
    "    #print(filtro_sopa)\n",
    "    links=[]\n",
    "    for link in sopa.find_all('a', attrs={'href': re.compile(\"^https://\")}):\n",
    "        links.append(link.get('href'))\n",
    "    \n",
    "    #print(links)\n",
    "    return links\n",
    "\n",
    "\n",
    "listaDeLinks = {}\n",
    "listaDeLinks[0] = links()\n",
    "\n",
    "link = json.dumps(listaDeLinks)\n",
    "arquivoComOsLinks = open('linkParaAtas.json', 'w')\n",
    "arquivoComOsLinks.write(link)\n",
    "arquivoComOsLinks.close()\n",
    "\n",
    "driver.quit()"
   ]
  },
  {
   "cell_type": "code",
   "execution_count": null,
   "metadata": {},
   "outputs": [],
   "source": [
    "\n"
   ]
  }
 ],
 "metadata": {
  "kernelspec": {
   "display_name": "Python 3",
   "language": "python",
   "name": "python3"
  },
  "language_info": {
   "codemirror_mode": {
    "name": "ipython",
    "version": 3
   },
   "file_extension": ".py",
   "mimetype": "text/x-python",
   "name": "python",
   "nbconvert_exporter": "python",
   "pygments_lexer": "ipython3",
   "version": "3.8.3"
  }
 },
 "nbformat": 4,
 "nbformat_minor": 4
}
