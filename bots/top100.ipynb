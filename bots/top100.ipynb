{
 "cells": [
  {
   "cell_type": "code",
   "execution_count": 1,
   "metadata": {},
   "outputs": [],
   "source": [
    "import time\n",
    "import requests\n",
    "import pandas as pd\n",
    "from bs4 import BeautifulSoup\n",
    "from selenium import webdriver\n",
    "from selenium.webdriver.firefox.options import Options\n",
    "import json"
   ]
  },
  {
   "cell_type": "code",
   "execution_count": 2,
   "metadata": {},
   "outputs": [],
   "source": [
    "url = 'https://store.steampowered.com/stats/?l=portuguese'"
   ]
  },
  {
   "cell_type": "code",
   "execution_count": 4,
   "metadata": {},
   "outputs": [
    {
     "name": "stdout",
     "output_type": "stream",
     "text": [
      "                                        0            1  \\\n",
      "0                                    Jogo  Máximo hoje   \n",
      "2        Counter-Strike: Global Offensive       933914   \n",
      "3                                  Dota 2       625726   \n",
      "4                                Among Us       301418   \n",
      "5           PLAYERUNKNOWN'S BATTLEGROUNDS       364565   \n",
      "..                                    ...          ...   \n",
      "97                              Northgard         7002   \n",
      "98                    Company of Heroes 2         7138   \n",
      "99   Total War: ROME II - Emperor Edition         6553   \n",
      "100                    Tabletop Simulator         9064   \n",
      "101                             Craftopia        12298   \n",
      "\n",
      "                              2  \n",
      "0    Utilizadores a jogar agora  \n",
      "2                        842103  \n",
      "3                        476932  \n",
      "4                        238313  \n",
      "5                        121256  \n",
      "..                          ...  \n",
      "97                         6634  \n",
      "98                         6581  \n",
      "99                         6524  \n",
      "100                        6487  \n",
      "101                        6378  \n",
      "\n",
      "[101 rows x 3 columns]\n"
     ]
    }
   ],
   "source": [
    "options = Options()\n",
    "options.headless = True\n",
    "driver = webdriver.Firefox()\n",
    "\n",
    "driver.get(url)\n",
    "time.sleep(10)\n",
    "\n",
    "def expandir_o_top100():\n",
    "    expandir = driver.find_element_by_id('detailLink')\n",
    "    expandir.click()\n",
    "    return\n",
    "\n",
    "\n",
    "\n",
    "def montar_rank():\n",
    "    expandir_o_top100()\n",
    "    time.sleep(10)\n",
    "    tabela_top_100 = driver.find_element_by_xpath(\"//div[@id='detailStats']\")\n",
    "    conteudo_tabela = tabela_top_100.get_attribute('outerHTML')\n",
    "    #print(conteudo_tabela)\n",
    "    \n",
    "    # Converter o html (Remove as linhas em branco e outros)\n",
    "    sopa = BeautifulSoup(conteudo_tabela, 'html.parser')\n",
    "    #print(sopa)\n",
    "    filtro_tabela = sopa.find(name='table')\n",
    "    #print(filtro_tabela)\n",
    "    return filtro_tabela\n",
    "\n",
    "def criar_dados(tabela):\n",
    "    dados_completos = pd.read_html(str(tabela))[0]\n",
    "    #print(dados_completos)\n",
    "    filtro_de_dados = dados_completos[[3,1,0]]\n",
    "    filtro_de_dados.columns = [0,1,2]\n",
    "    #remover a linha 1\n",
    "    filtro_de_dados = filtro_de_dados.drop(1)\n",
    "    #print(filtro_de_dados)\n",
    "    return filtro_de_dados.to_dict('registros')\n",
    "    \n",
    "tabela_top100 = montar_rank()\n",
    "\n",
    "\n",
    "dicionario_tabela = {}\n",
    "dicionario_tabela[0] = criar_dados(tabela_top100)\n",
    "\n",
    "arquivo_json = json.dumps(dicionario_tabela)\n",
    "arquivo_de_projeto = open('top100jogosSteam.json', 'w')\n",
    "arquivo_de_projeto.write(arquivo_json)\n",
    "arquivo_de_projeto.close()\n",
    "\n",
    "driver.quit()"
   ]
  },
  {
   "cell_type": "code",
   "execution_count": null,
   "metadata": {},
   "outputs": [],
   "source": []
  }
 ],
 "metadata": {
  "kernelspec": {
   "display_name": "Python 3",
   "language": "python",
   "name": "python3"
  },
  "language_info": {
   "codemirror_mode": {
    "name": "ipython",
    "version": 3
   },
   "file_extension": ".py",
   "mimetype": "text/x-python",
   "name": "python",
   "nbconvert_exporter": "python",
   "pygments_lexer": "ipython3",
   "version": "3.8.3"
  }
 },
 "nbformat": 4,
 "nbformat_minor": 4
}
