{
 "cells": [
  {
   "cell_type": "markdown",
   "metadata": {},
   "source": [
    "### Importação das bibliotecas\n",
    "##### time: Responsável por controlar o delay de execução no código\n",
    "##### requests: Responsável por realizar as requisições html\n",
    "##### BeautifulSoup: Responsável por tratar as requisições html\n",
    "##### selenium: Responsável por abrir um navegador de testes que simula as ações do usuário\n",
    "##### json: Responsável trabalhar com arquivos json\n",
    "###### Em caso de erros na importação das Bibliotecas,  gentileza verificar se a instalação da biblioteca está correta através das documentações oficiais.\n",
    "###### Geralmente esses erros são apresentados como ModuleNotFoundError: No module named 'Nome do módulo com problema'\n"
   ]
  },
  {
   "cell_type": "code",
   "execution_count": 1,
   "metadata": {},
   "outputs": [],
   "source": [
    "import time\n",
    "import requests\n",
    "#import pandas as pd\n",
    "from bs4 import BeautifulSoup\n",
    "from selenium import webdriver\n",
    "from selenium.webdriver.firefox.options import Options\n",
    "import json"
   ]
  },
  {
   "cell_type": "markdown",
   "metadata": {},
   "source": [
    "Criar uma variável chamada url, com a finalidade de receber endereço que será trabalhado pelo software."
   ]
  },
  {
   "cell_type": "code",
   "execution_count": 2,
   "metadata": {},
   "outputs": [],
   "source": [
    "url = \" https://www.cmnovalima.mg.gov.br/vereadores/\""
   ]
  },
  {
   "cell_type": "markdown",
   "metadata": {},
   "source": [
    "options =  é uma classe que possui as opções do selenium, como mostrar ou não execução do navegador.\n",
    "\n",
    "Usando o headless com o valor True é possível ver o bot trabalhando.\n",
    "\n",
    "driver = Webdriver e o navegador que vamos utilizar realizar os testes. Nesse caso foi utilizado o firefox mas poderia ser utilizados outros.\n"
   ]
  },
  {
   "cell_type": "markdown",
   "metadata": {},
   "source": [
    "Para Linux descomentar as linhas abaixo."
   ]
  },
  {
   "cell_type": "code",
   "execution_count": 3,
   "metadata": {},
   "outputs": [],
   "source": [
    "#options = Options()\n",
    "#options.headless = True\n",
    "#driver = webdriver.Firefox()"
   ]
  },
  {
   "cell_type": "markdown",
   "metadata": {},
   "source": [
    "Para ambientes windows utilizar as linhas abaixo e comentar o bloco de cima.\n",
    "\n",
    "Maiores detalhes em ambientes Windows verificar esse artigo abaixo.\n",
    "\n",
    "https://medium.com/ananoterminal/ambientar-selenium-no-windows-3b880fa0e827"
   ]
  },
  {
   "cell_type": "code",
   "execution_count": 4,
   "metadata": {},
   "outputs": [],
   "source": [
    "from selenium.webdriver.firefox.firefox_binary import FirefoxBinary\n",
    "binary = FirefoxBinary('C:\\\\Program Files\\\\Mozilla Firefox\\\\firefox.exe')\n",
    "driver = webdriver.Firefox(firefox_binary=binary, executable_path=r'C:\\\\geckodriver-v0.27.0-win64\\\\geckodriver.exe')"
   ]
  },
  {
   "cell_type": "markdown",
   "metadata": {},
   "source": [
    "Driver(Navegador de teste): Recebe a url, passada anteriormente na variável de mesmo nome. Este procedimento é necessário para que o navegador trabalha com a url passada.\n",
    "\n",
    "A função sleep presente na classe time serve como um delay no código simulando um comportamento de um ser humano, evitando que o servidor pense que está sobre um ataque de negação de serviço DDoS"
   ]
  },
  {
   "cell_type": "code",
   "execution_count": 5,
   "metadata": {},
   "outputs": [],
   "source": [
    "driver.get(url)\n",
    "time.sleep(10)"
   ]
  },
  {
   "cell_type": "code",
   "execution_count": null,
   "metadata": {},
   "outputs": [],
   "source": [
    "def tabularDados():\n",
    "    vereadores = driver.find_element_by_xpath(\"//div[@class='entry-text']\")\n",
    "    conteudo_vereadores = vereadores.get_attribute('outerHTML')    \n",
    "    #print(conteudo_vereadores)\n",
    "    \n",
    "    sopa = BeautifulSoup(conteudo_vereadores, 'html.parser')\n",
    "    #print(sopa)\n",
    "    elemento = sopa.find(\"div\", class_=\"entry-text\")\n",
    "    print(elemento.attrs[0])\n",
    "    \n",
    "    return\n",
    "    \n",
    "    \n",
    "    \n",
    "dadosVereadores = {} \n",
    "dadosVereadores = tabularDados()\n",
    "\n",
    "dados = json.dumps(dadosVereadores)\n",
    "fp = open('../Dados/dadosVereadores.json', 'w')\n",
    "fp.write(dados)\n",
    "fp.closer()\n",
    "\n",
    "driver.quit()"
   ]
  },
  {
   "cell_type": "code",
   "execution_count": null,
   "metadata": {},
   "outputs": [],
   "source": []
  }
 ],
 "metadata": {
  "kernelspec": {
   "display_name": "Python 3",
   "language": "python",
   "name": "python3"
  },
  "language_info": {
   "codemirror_mode": {
    "name": "ipython",
    "version": 3
   },
   "file_extension": ".py",
   "mimetype": "text/x-python",
   "name": "python",
   "nbconvert_exporter": "python",
   "pygments_lexer": "ipython3",
   "version": "3.8.3"
  }
 },
 "nbformat": 4,
 "nbformat_minor": 4
}
