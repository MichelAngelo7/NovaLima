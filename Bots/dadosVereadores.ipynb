{
 "cells": [
  {
   "cell_type": "markdown",
   "metadata": {},
   "source": [
    "### Imporrtação das bibliotecas\n",
    "##### time: Responsável por controlar o delay de execção no codigo\n",
    "##### requests: Responsável por realisar as requisições html\n",
    "##### BeautifulSoup: Responsável por tratar as requisições html\n",
    "##### selenium: Responsável por abrir um navegador de testes que simula as acções do usuário\n",
    "##### json: Responsável trabalhar com arquivos json\n",
    "###### Em caso de erros na importação das Bibiotecas,  gentileza verificar se a instalação da biblioteca esta correta atráves das documentações oficiais.\n",
    "###### Geralmente esses erros são apresentados como ModuleNotFoundError: No module named 'Nome do modulo com problema'"
   ]
  },
  {
   "cell_type": "code",
   "execution_count": 1,
   "metadata": {},
   "outputs": [],
   "source": [
    "import time\n",
    "import requests\n",
    "#import pandas as pd\n",
    "from bs4 import BeautifulSoup\n",
    "from selenium import webdriver\n",
    "from selenium.webdriver.firefox.options import Options\n",
    "import json"
   ]
  },
  {
   "cell_type": "markdown",
   "metadata": {},
   "source": [
    "Criar uma variável chamada url, com afinalidade de receber endereço que será trabalhado pelo software."
   ]
  },
  {
   "cell_type": "code",
   "execution_count": 2,
   "metadata": {},
   "outputs": [],
   "source": [
    "url = \" https://www.cmnovalima.mg.gov.br/vereadores/\""
   ]
  },
  {
   "cell_type": "markdown",
   "metadata": {},
   "source": [
    "options =  é uma classe que possui as opções do selenium, como mostrar ou não execução do navegador. \n",
    "\n",
    "Usando o headless com o valor True é possivel ver o bot trabalhando.\n",
    "\n",
    "driver = Webdriver e o navegador que vamos utilizar realizar os testes. Nesse caso foi utilizado o firefox mas poderia ser utilizados outros.\n"
   ]
  },
  {
   "cell_type": "markdown",
   "metadata": {},
   "source": [
    "Para Linux descomentar as linhas abaixo."
   ]
  },
  {
   "cell_type": "code",
   "execution_count": 3,
   "metadata": {},
   "outputs": [],
   "source": [
    "#options = Options()\n",
    "#options.headless = True\n",
    "#driver = webdriver.Firefox()"
   ]
  },
  {
   "cell_type": "markdown",
   "metadata": {},
   "source": [
    "Para ambientes windows utilizar as linhas abaixo e comentar o bloco de cima.\n",
    "\n",
    "Maiores detelhes em ambientes Windows verificar esse artigo abaixo.\n",
    "\n",
    "https://medium.com/ananoterminal/ambientar-selenium-no-windows-3b880fa0e827"
   ]
  },
  {
   "cell_type": "code",
   "execution_count": 4,
   "metadata": {},
   "outputs": [],
   "source": [
    "from selenium.webdriver.firefox.firefox_binary import FirefoxBinary\n",
    "binary = FirefoxBinary('C:\\\\Program Files\\\\Mozilla Firefox\\\\firefox.exe')\n",
    "driver = webdriver.Firefox(firefox_binary=binary, executable_path=r'C:\\\\geckodriver-v0.27.0-win64\\\\geckodriver.exe')"
   ]
  },
  {
   "cell_type": "markdown",
   "metadata": {},
   "source": [
    "Driver(Navegador de teste): Recebe a url, passada anteriormente na vairável de mesmo nome. Esse procedimento é necessario para que o navegador trabelhe com a url passada.\n",
    "\n",
    "A função sleep presente na classe time serve como um delay no codigo simulando um comportamento de um ser humano, evitando que o servidor pense que esta sobre um ataque de negação de serviço DDoS "
   ]
  },
  {
   "cell_type": "code",
   "execution_count": 5,
   "metadata": {},
   "outputs": [],
   "source": [
    "driver.get(url)\n",
    "time.sleep(10)"
   ]
  },
  {
   "cell_type": "code",
   "execution_count": 6,
   "metadata": {},
   "outputs": [
    {
     "ename": "KeyError",
     "evalue": "0",
     "output_type": "error",
     "traceback": [
      "\u001b[1;31m---------------------------------------------------------------------------\u001b[0m",
      "\u001b[1;31mKeyError\u001b[0m                                  Traceback (most recent call last)",
      "\u001b[1;32m<ipython-input-6-7998b3113045>\u001b[0m in \u001b[0;36m<module>\u001b[1;34m\u001b[0m\n\u001b[0;32m     14\u001b[0m \u001b[1;33m\u001b[0m\u001b[0m\n\u001b[0;32m     15\u001b[0m \u001b[0mdadosVereadores\u001b[0m \u001b[1;33m=\u001b[0m \u001b[1;33m{\u001b[0m\u001b[1;33m}\u001b[0m\u001b[1;33m\u001b[0m\u001b[1;33m\u001b[0m\u001b[0m\n\u001b[1;32m---> 16\u001b[1;33m \u001b[0mdadosVereadores\u001b[0m \u001b[1;33m=\u001b[0m \u001b[0mtabularDados\u001b[0m\u001b[1;33m(\u001b[0m\u001b[1;33m)\u001b[0m\u001b[1;33m\u001b[0m\u001b[1;33m\u001b[0m\u001b[0m\n\u001b[0m\u001b[0;32m     17\u001b[0m \u001b[1;33m\u001b[0m\u001b[0m\n\u001b[0;32m     18\u001b[0m \u001b[0mdados\u001b[0m \u001b[1;33m=\u001b[0m \u001b[0mjson\u001b[0m\u001b[1;33m.\u001b[0m\u001b[0mdumps\u001b[0m\u001b[1;33m(\u001b[0m\u001b[0mdadosVereadores\u001b[0m\u001b[1;33m)\u001b[0m\u001b[1;33m\u001b[0m\u001b[1;33m\u001b[0m\u001b[0m\n",
      "\u001b[1;32m<ipython-input-6-7998b3113045>\u001b[0m in \u001b[0;36mtabularDados\u001b[1;34m()\u001b[0m\n\u001b[0;32m      7\u001b[0m     \u001b[1;31m#print(sopa)\u001b[0m\u001b[1;33m\u001b[0m\u001b[1;33m\u001b[0m\u001b[1;33m\u001b[0m\u001b[0m\n\u001b[0;32m      8\u001b[0m     \u001b[0melemento\u001b[0m \u001b[1;33m=\u001b[0m \u001b[0msopa\u001b[0m\u001b[1;33m.\u001b[0m\u001b[0mfind\u001b[0m\u001b[1;33m(\u001b[0m\u001b[1;34m\"div\"\u001b[0m\u001b[1;33m,\u001b[0m \u001b[0mclass_\u001b[0m\u001b[1;33m=\u001b[0m\u001b[1;34m\"entry-text\"\u001b[0m\u001b[1;33m)\u001b[0m\u001b[1;33m\u001b[0m\u001b[1;33m\u001b[0m\u001b[0m\n\u001b[1;32m----> 9\u001b[1;33m     \u001b[0mprint\u001b[0m\u001b[1;33m(\u001b[0m\u001b[0melemento\u001b[0m\u001b[1;33m.\u001b[0m\u001b[0mattrs\u001b[0m\u001b[1;33m[\u001b[0m\u001b[1;36m0\u001b[0m\u001b[1;33m]\u001b[0m\u001b[1;33m)\u001b[0m\u001b[1;33m\u001b[0m\u001b[1;33m\u001b[0m\u001b[0m\n\u001b[0m\u001b[0;32m     10\u001b[0m \u001b[1;33m\u001b[0m\u001b[0m\n\u001b[0;32m     11\u001b[0m     \u001b[1;32mreturn\u001b[0m\u001b[1;33m\u001b[0m\u001b[1;33m\u001b[0m\u001b[0m\n",
      "\u001b[1;31mKeyError\u001b[0m: 0"
     ]
    }
   ],
   "source": [
    "def tabularDados():\n",
    "    vereadores = driver.find_element_by_xpath(\"//div[@class='entry-text']\")\n",
    "    conteudo_vereadores = vereadores.get_attribute('outerHTML')    \n",
    "    #print(conteudo_vereadores)\n",
    "    \n",
    "    sopa = BeautifulSoup(conteudo_vereadores, 'html.parser')\n",
    "    #print(sopa)\n",
    "    elemento = sopa.find(\"div\", class_=\"entry-text\")\n",
    "    print(elemento.attrs[0])\n",
    "    \n",
    "    return\n",
    "    \n",
    "    \n",
    "    \n",
    "dadosVereadores = {} \n",
    "dadosVereadores = tabularDados()\n",
    "\n",
    "dados = json.dumps(dadosVereadores)\n",
    "fp = open('../Dados/dadosVereadores.json', 'w')\n",
    "fp.write(dados)\n",
    "fp.closer()\n",
    "\n",
    "driver.quit()"
   ]
  },
  {
   "cell_type": "code",
   "execution_count": null,
   "metadata": {},
   "outputs": [],
   "source": []
  }
 ],
 "metadata": {
  "kernelspec": {
   "display_name": "Python 3",
   "language": "python",
   "name": "python3"
  },
  "language_info": {
   "codemirror_mode": {
    "name": "ipython",
    "version": 3
   },
   "file_extension": ".py",
   "mimetype": "text/x-python",
   "name": "python",
   "nbconvert_exporter": "python",
   "pygments_lexer": "ipython3",
   "version": "3.8.3"
  }
 },
 "nbformat": 4,
 "nbformat_minor": 4
}
