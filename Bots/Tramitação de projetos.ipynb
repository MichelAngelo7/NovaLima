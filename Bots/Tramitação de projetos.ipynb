{
 "cells": [
  {
   "cell_type": "code",
   "execution_count": 1,
   "metadata": {},
   "outputs": [],
   "source": [
    "import time\n",
    "import requests\n",
    "import pandas as pd\n",
    "from bs4 import BeautifulSoup\n",
    "from selenium import webdriver\n",
    "from selenium.webdriver.firefox.options import Options\n",
    "import json"
   ]
  },
  {
   "cell_type": "code",
   "execution_count": 2,
   "metadata": {},
   "outputs": [],
   "source": [
    "url = \"https://www.cmnovalima.mg.gov.br/servicos/tramitacao-de-projetos/\""
   ]
  },
  {
   "cell_type": "code",
   "execution_count": 3,
   "metadata": {},
   "outputs": [],
   "source": [
    "option = Options()\n",
    "option.headless = True\n",
    "driver = webdriver.Firefox()\n",
    "\n",
    "driver.get(url)\n",
    "time.sleep(10)\n",
    "\n",
    "\n",
    "def buildrank():\n",
    "    tabela = driver.find_element_by_xpath(\"//table[@class='table table-striped']\")\n",
    "    conteudo_tabela = tabela.get_attribute('outerHTML')\n",
    "    #print(conteudo_tabela)\n",
    "\n",
    "    # Parsear o conteudo Html\n",
    "    \n",
    "    sopa = BeautifulSoup(conteudo_tabela, 'html.parser')\n",
    "    #print(sopa)\n",
    "    aTabela = sopa.find(name='table')\n",
    "    #print(aTabela)\n",
    "    # estrutura no pandas\n",
    "    df_full = pd.read_html(str(aTabela))[0]\n",
    "    #print(df_full.head())\n",
    "    df = df_full[['Identificação', 'Autoria', 'Status']]\n",
    "    #print(df)\n",
    "    return df.to_dict('registros')\n",
    "    \n",
    "tramitacaoDeProjetos = {}   \n",
    "tramitacaoDeProjetos[0] = buildrank()\n",
    "\n",
    "js = json.dumps(tramitacaoDeProjetos)\n",
    "fp = open('tramitacaoDeProjetos.json', 'w')\n",
    "fp.write(js)\n",
    "fp.close()\n",
    "\n",
    "driver.quit()"
   ]
  },
  {
   "cell_type": "code",
   "execution_count": 4,
   "metadata": {},
   "outputs": [
    {
     "ename": "NameError",
     "evalue": "name 'df_full' is not defined",
     "output_type": "error",
     "traceback": [
      "\u001b[0;31m---------------------------------------------------------------------------\u001b[0m",
      "\u001b[0;31mNameError\u001b[0m                                 Traceback (most recent call last)",
      "\u001b[0;32m<ipython-input-4-ffca7d3f2ea8>\u001b[0m in \u001b[0;36m<module>\u001b[0;34m\u001b[0m\n\u001b[0;32m----> 1\u001b[0;31m \u001b[0mdf_full\u001b[0m\u001b[0;34m\u001b[0m\u001b[0;34m\u001b[0m\u001b[0m\n\u001b[0m",
      "\u001b[0;31mNameError\u001b[0m: name 'df_full' is not defined"
     ]
    }
   ],
   "source": [
    "df_full\n"
   ]
  },
  {
   "cell_type": "code",
   "execution_count": null,
   "metadata": {},
   "outputs": [],
   "source": []
  }
 ],
 "metadata": {
  "kernelspec": {
   "display_name": "Python 3",
   "language": "python",
   "name": "python3"
  },
  "language_info": {
   "codemirror_mode": {
    "name": "ipython",
    "version": 3
   },
   "file_extension": ".py",
   "mimetype": "text/x-python",
   "name": "python",
   "nbconvert_exporter": "python",
   "pygments_lexer": "ipython3",
   "version": "3.8.3"
  }
 },
 "nbformat": 4,
 "nbformat_minor": 4
}
