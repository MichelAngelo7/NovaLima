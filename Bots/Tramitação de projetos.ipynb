{
 "cells": [
  {
   "cell_type": "markdown",
   "metadata": {},
   "source": [
    "### Importação das bibliotecas\n",
    "##### time: Responsável por controlar o delay de execução no código\n",
    "##### requests: Responsável por realizar as requisições html\n",
    "##### BeautifulSoup: Responsável por tratar as requisições html\n",
    "##### selenium: Responsável por abrir um navegador de testes que simula as ações do usuário\n",
    "##### json: Responsável trabalhar com arquivos json\n",
    "###### Em caso de erros na importação das Bibliotecas,  gentileza verificar se a instalação da biblioteca está correta através das documentações oficiais.\n",
    "###### Geralmente esses erros são apresentados como ModuleNotFoundError: No module named 'Nome do módulo com problema'\n"
   ]
  },
  {
   "cell_type": "code",
   "execution_count": 1,
   "metadata": {},
   "outputs": [],
   "source": [
    "import time\n",
    "import requests\n",
    "import pandas as pd\n",
    "from bs4 import BeautifulSoup\n",
    "from selenium import webdriver\n",
    "from selenium.webdriver.firefox.options import Options\n",
    "import json"
   ]
  },
  {
   "cell_type": "markdown",
   "metadata": {},
   "source": [
    "Criar uma variável chamada url, com a finalidade de receber endereço que será trabalhado pelo software."
   ]
  },
  {
   "cell_type": "code",
   "execution_count": 2,
   "metadata": {},
   "outputs": [],
   "source": [
    "url = \"https://www.cmnovalima.mg.gov.br/servicos/tramitacao-de-projetos/\""
   ]
  },
  {
   "cell_type": "markdown",
   "metadata": {},
   "source": [
    "options =  é uma classe que possui as opções do selenium, como mostrar ou não execução do navegador.\n",
    "\n",
    "Usando o headless com o valor True é possível ver o bot trabalhando.\n",
    "\n",
    "driver = Webdriver e o navegador que vamos utilizar realizar os testes. Nesse caso foi utilizado o firefox mas poderia ser utilizados outros.\n"
   ]
  },
  {
   "cell_type": "markdown",
   "metadata": {},
   "source": [
    "Para Linux descomentar as linhas abaixo.\n"
   ]
  },
  {
   "cell_type": "code",
   "execution_count": 3,
   "metadata": {},
   "outputs": [],
   "source": [
    "#options = Options()\n",
    "#options.headless = True\n",
    "#driver = webdriver.Firefox()"
   ]
  },
  {
   "cell_type": "markdown",
   "metadata": {},
   "source": [
    "Para ambientes windows utilizar as linhas abaixo e comentar o bloco de cima.\n",
    "\n",
    "Maiores detalhes em ambientes Windows verificar esse artigo abaixo.\n",
    "\n",
    "\n",
    "https://medium.com/ananoterminal/ambientar-selenium-no-windows-3b880fa0e827\n"
   ]
  },
  {
   "cell_type": "code",
   "execution_count": 4,
   "metadata": {},
   "outputs": [],
   "source": [
    "from selenium.webdriver.firefox.firefox_binary import FirefoxBinary\n",
    "binary = FirefoxBinary('C:\\\\Program Files\\\\Mozilla Firefox\\\\firefox.exe')\n",
    "driver = webdriver.Firefox(firefox_binary=binary, executable_path=r'C:\\\\geckodriver-v0.27.0-win64\\\\geckodriver.exe')"
   ]
  },
  {
   "cell_type": "markdown",
   "metadata": {},
   "source": [
    "Driver(Navegador de teste): Recebe a url, passada anteriormente na variável de mesmo nome. Este procedimento é necessário para que o navegador trabalha com a url passada.\n",
    "\n",
    "A função sleep presente na classe time serve como um delay no código simulando um comportamento de um ser humano, evitando que o servidor pense que está sobre um ataque de negação de serviço DDoS"
   ]
  },
  {
   "cell_type": "code",
   "execution_count": 5,
   "metadata": {},
   "outputs": [],
   "source": [
    "driver.get(url)\n",
    "time.sleep(10)"
   ]
  },
  {
   "cell_type": "markdown",
   "metadata": {},
   "source": [
    "A função buscar dados pega os dados obtidos pelo navegador e transforma em dicionário python\n",
    "1) Busca o conteúdo pelo seu xpath e armazena na variável tabela\n",
    "\n",
    "2) Usando a função get_attribute para pegar o outerHTML e armazena na váriavel conteudo_tabela\n",
    "\n",
    "3) Utilizando o BeautifulSoup, converter o fomato outerHTML para html simples e armazenando na variável sopa\n",
    "\n",
    "4) Usando a função find buscando por table e armazenando na vareável aTabela\n",
    "\n",
    "5) utlizando a função do pandas para ler html e convertendo o conteúdo da variável aTabela para um string, passando o conteúdo gerado para variável df_full.\n",
    "\n",
    "6) Para poder identificar os campos da table utilizamos os [[]] e dentro deles os nomde que desejamos para utilziar como identificação.\n",
    "\n",
    "7) Retorna um dicionário com os registros de df \n"
   ]
  },
  {
   "cell_type": "code",
   "execution_count": 6,
   "metadata": {},
   "outputs": [],
   "source": [
    "def buscar_dados():\n",
    "    tabela = driver.find_element_by_xpath(\"//table[@class='table table-striped']\")\n",
    "    conteudo_tabela = tabela.get_attribute('outerHTML')\n",
    "    sopa = BeautifulSoup(conteudo_tabela, 'html.parser')\n",
    "    aTabela = sopa.find(name='table')\n",
    "    df_full = pd.read_html(str(aTabela))[0]\n",
    "    df = df_full[['Identificação', 'Autoria', 'Status']]\n",
    "    return df.to_dict('registros')"
   ]
  },
  {
   "cell_type": "markdown",
   "metadata": {},
   "source": [
    "Nesse ponto é criado um dicionario vazio com o nome tramitacaoDeProjetos, logo em seguida e atribuido a posição 0 da variável o contúdo gerado pela função buscar_dados.      "
   ]
  },
  {
   "cell_type": "code",
   "execution_count": 7,
   "metadata": {},
   "outputs": [],
   "source": [
    "tramitacaoDeProjetos = {}   \n",
    "tramitacaoDeProjetos[0] = buscar_dados()"
   ]
  },
  {
   "cell_type": "markdown",
   "metadata": {},
   "source": [
    "Agora o conteúdo Armazenado no dicionario tramitacaoDeProjetos e convertido para um arquivo Json possibilitando a utilização por outras partes do codigo ou por outros programas."
   ]
  },
  {
   "cell_type": "code",
   "execution_count": 8,
   "metadata": {},
   "outputs": [],
   "source": [
    "js = json.dumps(tramitacaoDeProjetos)\n",
    "fp = open('../Dados/tramitacaoDeProjetos2.json', 'w')\n",
    "fp.write(js)\n",
    "fp.close()"
   ]
  },
  {
   "cell_type": "markdown",
   "metadata": {},
   "source": [
    "o navegador de teste é fechado."
   ]
  },
  {
   "cell_type": "code",
   "execution_count": 9,
   "metadata": {},
   "outputs": [],
   "source": [
    "driver.quit()"
   ]
  }
 ],
 "metadata": {
  "kernelspec": {
   "display_name": "Python 3",
   "language": "python",
   "name": "python3"
  },
  "language_info": {
   "codemirror_mode": {
    "name": "ipython",
    "version": 3
   },
   "file_extension": ".py",
   "mimetype": "text/x-python",
   "name": "python",
   "nbconvert_exporter": "python",
   "pygments_lexer": "ipython3",
   "version": "3.8.3"
  }
 },
 "nbformat": 4,
 "nbformat_minor": 4
}
